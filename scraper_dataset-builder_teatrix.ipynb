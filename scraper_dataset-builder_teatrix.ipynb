{
  "nbformat": 4,
  "nbformat_minor": 0,
  "metadata": {
    "colab": {
      "name": "scraper_dataset_builder_teatrix (1).ipynb",
      "provenance": []
    },
    "kernelspec": {
      "name": "python3",
      "display_name": "Python 3"
    }
  },
  "cells": [
    {
      "cell_type": "markdown",
      "metadata": {
        "id": "bxlwGbbCK9cr"
      },
      "source": [
        "# En este cuaderno crearemos un catálogo de las obras disponibles en la plataforma [Teatrix](https://www.teatrix.com/), analizaremos algunos de sus datos y finalmente extraeremos el listado en un archivo de Excel."
      ]
    },
    {
      "cell_type": "markdown",
      "metadata": {
        "id": "mFDFFlnQKw_j"
      },
      "source": [
        "En primer lugar, importamos las librerías necesarias para obtener el código de la página y filtrarlo mediante expresiones regulares:"
      ]
    },
    {
      "cell_type": "code",
      "metadata": {
        "id": "AwLZoibAJspV"
      },
      "source": [
        "import requests\n",
        "import re"
      ],
      "execution_count": 1,
      "outputs": []
    },
    {
      "cell_type": "markdown",
      "metadata": {
        "id": "F5gpgZSDLjPR"
      },
      "source": [
        "Hacemos el pedido a la web. Si el valor de su estatus es igual a 200, quiere decir que hemos tenido éxito:"
      ]
    },
    {
      "cell_type": "code",
      "metadata": {
        "colab": {
          "base_uri": "https://localhost:8080/"
        },
        "id": "lYRv7YOXLItp",
        "outputId": "1f2b93ea-448e-4ae3-8f82-30e50ee4ff25"
      },
      "source": [
        "url = 'https://www.teatrix.com/'\n",
        "request = requests.get(url)\n",
        "request.status_code"
      ],
      "execution_count": 2,
      "outputs": [
        {
          "output_type": "execute_result",
          "data": {
            "text/plain": [
              "200"
            ]
          },
          "metadata": {
            "tags": []
          },
          "execution_count": 2
        }
      ]
    },
    {
      "cell_type": "markdown",
      "metadata": {
        "id": "FaHrTMV4L6Sh"
      },
      "source": [
        "A continuación obtenemos los nombres de las páginas que contienen cada una de las obras, ubicados en el texto luego de la expresión \"video/\"."
      ]
    },
    {
      "cell_type": "code",
      "metadata": {
        "colab": {
          "base_uri": "https://localhost:8080/"
        },
        "id": "y0D-7JOaM4SK",
        "outputId": "951741cd-7bb3-462b-b462-04ffac437b3b"
      },
      "source": [
        "pattern = 'video/(.+)\">'\n",
        "nombres = re.findall(pattern,request.text)\n",
        "print(f'La página principal de Teatrix nos devuelve {len(nombres)} nombres de obras')"
      ],
      "execution_count": 3,
      "outputs": [
        {
          "output_type": "stream",
          "text": [
            "La página principal de Teatrix nos devuelve 446 nombres de obras\n"
          ],
          "name": "stdout"
        }
      ]
    },
    {
      "cell_type": "markdown",
      "metadata": {
        "id": "jlm6ddJZl-yQ"
      },
      "source": [
        "Cada nombre puede aparecer más de una vez en el código, por lo cual necesitamos eliminar los repetidos. Para esto convertimos nuestra lista en un set, estructura que no contiene más de una ocurrencia de cada objeto:"
      ]
    },
    {
      "cell_type": "code",
      "metadata": {
        "colab": {
          "base_uri": "https://localhost:8080/"
        },
        "id": "Tc0RG0Y_lyv5",
        "outputId": "1b0c15c0-acd5-4c61-83b3-5e7008cba7c8"
      },
      "source": [
        "nombres = set(nombres)\n",
        "print(f'Actualmente, Teatrix cuenta con {len(nombres)} obras en su catálogo.')"
      ],
      "execution_count": 4,
      "outputs": [
        {
          "output_type": "stream",
          "text": [
            "Actualmente, Teatrix cuenta con 178 obras en su catálogo.\n"
          ],
          "name": "stdout"
        }
      ]
    },
    {
      "cell_type": "markdown",
      "metadata": {
        "id": "xMMoWuKyCXj9"
      },
      "source": [
        "Ahora creamos un diccionario con la expresión regular correspondiente a cada uno de los datos que queremos extraer:"
      ]
    },
    {
      "cell_type": "code",
      "metadata": {
        "id": "yp4e9_F3Zrrm"
      },
      "source": [
        "obras_regex = {'titulo':'title\">(.+)</h2','teatro':'origin\">(.+)</span>',\r\n",
        "               'anio':'date\">(\\d+)','sinopsis':'md\">\\s*(.+)',\r\n",
        "               'duracion':'duration\">(\\d+)  min'}\r\n",
        "elenco_regex = '\"person\">(.*?)\\s<span\\sclass=\"role\">[(](.*?)[)]<'"
      ],
      "execution_count": 5,
      "outputs": []
    },
    {
      "cell_type": "markdown",
      "metadata": {
        "id": "h2cQWt1rPWkm"
      },
      "source": [
        "Entonces ya podemos crear una lista que contenga nombre, teatro, año, duración, elenco y el link al trailer de cada una de las obras. Es posible que la siguiente celda tarde unos cuantos segundos en ejecutarse, ya que debe recorrer página por página y filtrar los datos que queremos en cada una de ellas:"
      ]
    },
    {
      "cell_type": "code",
      "metadata": {
        "id": "4ECOeFI3hi96"
      },
      "source": [
        "data = [] #Primero creamos la lista que iremos llenando con los datos de cada obra.\r\n",
        "for i in nombres: #Iniciamos un bucle que itere el proceso en la página de cada obra.\r\n",
        "  url_obra = f'{url}video/{i}' \r\n",
        "  obra_data = {} #Creamos un diccionario vacío cada vez que se inicia un ciclo.\r\n",
        "  while len(obra_data) < 1: #Repetimos el ciclo hasta asegurarnos de que obtuvimos\r\n",
        "  #datos, ya que puede suceder que a veces el request devuelva un objeto vacío. \r\n",
        "    html = requests.get(url_obra)\r\n",
        "    for nombre, regex in obras_regex.items():\r\n",
        "      dato = re.findall(regex, html.text)\r\n",
        "      if dato: #Si el dato en cuestión es hallado, lo agregamos al diccionario...\r\n",
        "        obra_data[nombre] = dato[0] #...tomando el primer elemento para evitar corchetes.\r\n",
        "  obra_data['elenco'] = re.findall(elenco_regex, html.text) #Del elenco queremos\r\n",
        "  #la lista completa.\r\n",
        "  obra_data['trailer'] = f'{url}ver/{i}' #El trailer podemos agregarlo sin necesidad\r\n",
        "  #de recurrir a expresiones regulares.\r\n",
        "  data.append(obra_data)"
      ],
      "execution_count": 6,
      "outputs": []
    },
    {
      "cell_type": "markdown",
      "metadata": {
        "id": "aDeiALaHagvg"
      },
      "source": [
        "Vemos los primeros cinco elementos para comprobar que el proceso haya sido exitoso:"
      ]
    },
    {
      "cell_type": "code",
      "metadata": {
        "id": "GEVwjLajaBDC"
      },
      "source": [
        "data[:4]"
      ],
      "execution_count": null,
      "outputs": []
    },
    {
      "cell_type": "markdown",
      "metadata": {
        "id": "tVDfEx2oSXXL"
      },
      "source": [
        "Antes de seguir importamos la librería Pandas, la cual nos ayudará a manipular los datos:"
      ]
    },
    {
      "cell_type": "code",
      "metadata": {
        "id": "lA-SgZYNSWvZ"
      },
      "source": [
        "import pandas as pd"
      ],
      "execution_count": 9,
      "outputs": []
    },
    {
      "cell_type": "markdown",
      "metadata": {
        "id": "nnDTGC-Pa5i4"
      },
      "source": [
        "Ahora sí, creamos nuestro catálogo y lo revisamos tomando una muestra al azar:"
      ]
    },
    {
      "cell_type": "code",
      "metadata": {
        "colab": {
          "base_uri": "https://localhost:8080/",
          "height": 459
        },
        "id": "Sc2YDjyM4GGS",
        "outputId": "c06b6860-178d-4547-8ce1-5a9dcd5789d7"
      },
      "source": [
        "catalogo = pd.DataFrame(data)\r\n",
        "print(catalogo.shape)\r\n",
        "catalogo.sample(5)"
      ],
      "execution_count": 10,
      "outputs": [
        {
          "output_type": "stream",
          "text": [
            "(178, 7)\n"
          ],
          "name": "stdout"
        },
        {
          "output_type": "execute_result",
          "data": {
            "text/html": [
              "<div>\n",
              "<style scoped>\n",
              "    .dataframe tbody tr th:only-of-type {\n",
              "        vertical-align: middle;\n",
              "    }\n",
              "\n",
              "    .dataframe tbody tr th {\n",
              "        vertical-align: top;\n",
              "    }\n",
              "\n",
              "    .dataframe thead th {\n",
              "        text-align: right;\n",
              "    }\n",
              "</style>\n",
              "<table border=\"1\" class=\"dataframe\">\n",
              "  <thead>\n",
              "    <tr style=\"text-align: right;\">\n",
              "      <th></th>\n",
              "      <th>titulo</th>\n",
              "      <th>teatro</th>\n",
              "      <th>anio</th>\n",
              "      <th>sinopsis</th>\n",
              "      <th>duracion</th>\n",
              "      <th>elenco</th>\n",
              "      <th>trailer</th>\n",
              "    </tr>\n",
              "  </thead>\n",
              "  <tbody>\n",
              "    <tr>\n",
              "      <th>165</th>\n",
              "      <td>MUJERES DE CENIZA</td>\n",
              "      <td>Teatro Regina</td>\n",
              "      <td>2016</td>\n",
              "      <td>Con dirección de R. Antier, esta\\r comedia de ...</td>\n",
              "      <td>82</td>\n",
              "      <td>[(Sergio Marcos, Autoría), (Martín Guerra, Aut...</td>\n",
              "      <td>https://www.teatrix.com/ver/mujeres-de-ceniza</td>\n",
              "    </tr>\n",
              "    <tr>\n",
              "      <th>87</th>\n",
              "      <td>PIEZA PLáSTICA</td>\n",
              "      <td>C.C.San Martín</td>\n",
              "      <td>2016</td>\n",
              "      <td>Una pieza de Marius von Mayenburg, con direcci...</td>\n",
              "      <td>91</td>\n",
              "      <td>[(Marius von Mayenburg, Autoría), (Luciano Các...</td>\n",
              "      <td>https://www.teatrix.com/ver/pieza-plastica</td>\n",
              "    </tr>\n",
              "    <tr>\n",
              "      <th>29</th>\n",
              "      <td>LA MECáNICA DE LAS MARIPOSAS</td>\n",
              "      <td>Teatro Anchieta - San Pablo</td>\n",
              "      <td>2012</td>\n",
              "      <td>Hay una pieza faltante para concretar un sueño...</td>\n",
              "      <td>83</td>\n",
              "      <td>[(Walter Daguerre, Autoría), (Paulo De Moraes,...</td>\n",
              "      <td>https://www.teatrix.com/ver/a-mecanica-das-bor...</td>\n",
              "    </tr>\n",
              "    <tr>\n",
              "      <th>79</th>\n",
              "      <td>YIYA</td>\n",
              "      <td>Teatro El Nacional</td>\n",
              "      <td>2016</td>\n",
              "      <td>La mítica historia de la asesina de Monserrat,...</td>\n",
              "      <td>107</td>\n",
              "      <td>[(Bruno Delucchi , Dirección musical ), (Sebas...</td>\n",
              "      <td>https://www.teatrix.com/ver/yiya</td>\n",
              "    </tr>\n",
              "    <tr>\n",
              "      <th>153</th>\n",
              "      <td>ARáOZ Y LA VERDAD</td>\n",
              "      <td>Paseo la plaza</td>\n",
              "      <td>2015</td>\n",
              "      <td>La obra de Eduardo Sacheri con dirección de Ga...</td>\n",
              "      <td>87</td>\n",
              "      <td>[(Fede Adolfi, Musicalizador), (Gabriela Izcov...</td>\n",
              "      <td>https://www.teatrix.com/ver/araoz-y-la-verdad</td>\n",
              "    </tr>\n",
              "  </tbody>\n",
              "</table>\n",
              "</div>"
            ],
            "text/plain": [
              "                           titulo  ...                                            trailer\n",
              "165             MUJERES DE CENIZA  ...      https://www.teatrix.com/ver/mujeres-de-ceniza\n",
              "87                 PIEZA PLáSTICA  ...         https://www.teatrix.com/ver/pieza-plastica\n",
              "29   LA MECáNICA DE LAS MARIPOSAS  ...  https://www.teatrix.com/ver/a-mecanica-das-bor...\n",
              "79                           YIYA  ...                   https://www.teatrix.com/ver/yiya\n",
              "153             ARáOZ Y LA VERDAD  ...      https://www.teatrix.com/ver/araoz-y-la-verdad\n",
              "\n",
              "[5 rows x 7 columns]"
            ]
          },
          "metadata": {
            "tags": []
          },
          "execution_count": 10
        }
      ]
    },
    {
      "cell_type": "markdown",
      "metadata": {
        "id": "XdxT56sZfkvQ"
      },
      "source": [
        "¿Coincide la cantidad de nombres que extrajimos al principio con la longitud del DataFrame?"
      ]
    },
    {
      "cell_type": "code",
      "metadata": {
        "id": "3XplPx7pfVAp"
      },
      "source": [
        "#Si esta celda no devuelve nada es porque las cantidades efectivamente coinciden.\r\n",
        "assert len(nombres) == len(catalogo), 'Las cantidades no coinciden'"
      ],
      "execution_count": 11,
      "outputs": []
    },
    {
      "cell_type": "markdown",
      "metadata": {
        "id": "IpP5ZJXGowXw"
      },
      "source": [
        "¿Cuáles son las obras más viejas del catálogo?"
      ]
    },
    {
      "cell_type": "code",
      "metadata": {
        "colab": {
          "base_uri": "https://localhost:8080/",
          "height": 558
        },
        "id": "uDcO85tQo1e_",
        "outputId": "5aea2f79-824e-44aa-d2dd-7545cf5a6108"
      },
      "source": [
        "catalogo[catalogo['anio'] == catalogo['anio'].min()]"
      ],
      "execution_count": 12,
      "outputs": [
        {
          "output_type": "execute_result",
          "data": {
            "text/html": [
              "<div>\n",
              "<style scoped>\n",
              "    .dataframe tbody tr th:only-of-type {\n",
              "        vertical-align: middle;\n",
              "    }\n",
              "\n",
              "    .dataframe tbody tr th {\n",
              "        vertical-align: top;\n",
              "    }\n",
              "\n",
              "    .dataframe thead th {\n",
              "        text-align: right;\n",
              "    }\n",
              "</style>\n",
              "<table border=\"1\" class=\"dataframe\">\n",
              "  <thead>\n",
              "    <tr style=\"text-align: right;\">\n",
              "      <th></th>\n",
              "      <th>titulo</th>\n",
              "      <th>teatro</th>\n",
              "      <th>anio</th>\n",
              "      <th>sinopsis</th>\n",
              "      <th>duracion</th>\n",
              "      <th>elenco</th>\n",
              "      <th>trailer</th>\n",
              "    </tr>\n",
              "  </thead>\n",
              "  <tbody>\n",
              "    <tr>\n",
              "      <th>9</th>\n",
              "      <td>ALTA COMEDIA: SIN SALIDA</td>\n",
              "      <td>Canal 9</td>\n",
              "      <td>1992</td>\n",
              "      <td>Un episodio de Alta comedia, el histórico cicl...</td>\n",
              "      <td>70</td>\n",
              "      <td>[(Luigi Pirandello, Libro original), (Ricardo ...</td>\n",
              "      <td>https://www.teatrix.com/ver/alta-comedia-sin-s...</td>\n",
              "    </tr>\n",
              "    <tr>\n",
              "      <th>38</th>\n",
              "      <td>ALTA COMEDIA: PERSONA NO GRATA</td>\n",
              "      <td>Canal 9</td>\n",
              "      <td>1992</td>\n",
              "      <td>Un episodio de Alta comedia, el histórico cicl...</td>\n",
              "      <td>54</td>\n",
              "      <td>[(Henrik Ibsen, Libro original), (Ruben Szuchm...</td>\n",
              "      <td>https://www.teatrix.com/ver/alta-comedia-perso...</td>\n",
              "    </tr>\n",
              "    <tr>\n",
              "      <th>67</th>\n",
              "      <td>ALTA COMEDIA: SEIS PERSONAJES EN BUSCA DE UN A...</td>\n",
              "      <td>Canal 9</td>\n",
              "      <td>1992</td>\n",
              "      <td>Un episodio de Alta comedia, el histórico cicl...</td>\n",
              "      <td>64</td>\n",
              "      <td>[(Luigi Pirandello, Libro original), (Elena An...</td>\n",
              "      <td>https://www.teatrix.com/ver/alta-comedia-seis-...</td>\n",
              "    </tr>\n",
              "    <tr>\n",
              "      <th>74</th>\n",
              "      <td>ALTA COMEDIA: HOY DIGO BASTA</td>\n",
              "      <td>Canal 9</td>\n",
              "      <td>1992</td>\n",
              "      <td>Un episodio de Alta Comedia, el histórico cicl...</td>\n",
              "      <td>74</td>\n",
              "      <td>[(Juan Carlos Cernadas Lamadrid, Autoría), (Al...</td>\n",
              "      <td>https://www.teatrix.com/ver/alta-comedia-hoy-d...</td>\n",
              "    </tr>\n",
              "    <tr>\n",
              "      <th>99</th>\n",
              "      <td>ALTA COMEDIA: LA SANGRE DE LOS ORTIZ</td>\n",
              "      <td>Canal 9</td>\n",
              "      <td>1992</td>\n",
              "      <td>Un episodio de Alta comedia, el histórico cicl...</td>\n",
              "      <td>61</td>\n",
              "      <td>[(Patricia Ulanosky, Autoría), (Alberto Rinald...</td>\n",
              "      <td>https://www.teatrix.com/ver/alta-comedia-la-sa...</td>\n",
              "    </tr>\n",
              "    <tr>\n",
              "      <th>164</th>\n",
              "      <td>BRUJAS</td>\n",
              "      <td>Teatro Ateneo</td>\n",
              "      <td>1992</td>\n",
              "      <td>Moria Casán, Graciela Dufau, Nora Cárpena, The...</td>\n",
              "      <td>102</td>\n",
              "      <td>[(Santiago Moncada, Autoría), (Luis Agustoni, ...</td>\n",
              "      <td>https://www.teatrix.com/ver/brujas</td>\n",
              "    </tr>\n",
              "  </tbody>\n",
              "</table>\n",
              "</div>"
            ],
            "text/plain": [
              "                                                titulo  ...                                            trailer\n",
              "9                             ALTA COMEDIA: SIN SALIDA  ...  https://www.teatrix.com/ver/alta-comedia-sin-s...\n",
              "38                      ALTA COMEDIA: PERSONA NO GRATA  ...  https://www.teatrix.com/ver/alta-comedia-perso...\n",
              "67   ALTA COMEDIA: SEIS PERSONAJES EN BUSCA DE UN A...  ...  https://www.teatrix.com/ver/alta-comedia-seis-...\n",
              "74                        ALTA COMEDIA: HOY DIGO BASTA  ...  https://www.teatrix.com/ver/alta-comedia-hoy-d...\n",
              "99                ALTA COMEDIA: LA SANGRE DE LOS ORTIZ  ...  https://www.teatrix.com/ver/alta-comedia-la-sa...\n",
              "164                                             BRUJAS  ...                 https://www.teatrix.com/ver/brujas\n",
              "\n",
              "[6 rows x 7 columns]"
            ]
          },
          "metadata": {
            "tags": []
          },
          "execution_count": 12
        }
      ]
    },
    {
      "cell_type": "markdown",
      "metadata": {
        "id": "E6oKUE9ogFtR"
      },
      "source": [
        "¿De qué años son la mayoría de las obras?"
      ]
    },
    {
      "cell_type": "code",
      "metadata": {
        "colab": {
          "base_uri": "https://localhost:8080/",
          "height": 308
        },
        "id": "9QNwFmUyf1mh",
        "outputId": "3b53609d-be96-473f-fa08-251e62fa9692"
      },
      "source": [
        "catalogo['anio'].hist(figsize=(15,5));"
      ],
      "execution_count": 13,
      "outputs": [
        {
          "output_type": "display_data",
          "data": {
            "image/png": "[encoded data removed]",
            "text/plain": [
              "<Figure size 1080x360 with 1 Axes>"
            ]
          },
          "metadata": {
            "tags": [],
            "needs_background": "light"
          }
        }
      ]
    },
    {
      "cell_type": "markdown",
      "metadata": {
        "id": "NZM83zk3qC4o"
      },
      "source": [
        "Ahora crearemos otro DataFrame para analizar la duración de las obras, eliminando los valores nulos, convirtiendo los minutos en datos operables y descartando aquellos que resulten anómalos:"
      ]
    },
    {
      "cell_type": "code",
      "metadata": {
        "id": "6nBz9M0Ap6vf",
        "colab": {
          "base_uri": "https://localhost:8080/"
        },
        "outputId": "6ab7a9f7-5a59-4b2e-9e5f-23cb1c3f77ce"
      },
      "source": [
        "df_dur = catalogo.dropna(subset=['duracion'])\r\n",
        "df_dur.shape"
      ],
      "execution_count": 14,
      "outputs": [
        {
          "output_type": "execute_result",
          "data": {
            "text/plain": [
              "(175, 7)"
            ]
          },
          "metadata": {
            "tags": []
          },
          "execution_count": 14
        }
      ]
    },
    {
      "cell_type": "code",
      "metadata": {
        "colab": {
          "base_uri": "https://localhost:8080/"
        },
        "id": "dBPlghIwtq2r",
        "outputId": "5f8240f8-24a5-46aa-87ee-4b706f7c4a15"
      },
      "source": [
        "df_dur['duracion'] = df_dur['duracion'].astype(int)"
      ],
      "execution_count": 15,
      "outputs": [
        {
          "output_type": "stream",
          "text": [
            "/usr/local/lib/python3.6/dist-packages/ipykernel_launcher.py:1: SettingWithCopyWarning: \n",
            "A value is trying to be set on a copy of a slice from a DataFrame.\n",
            "Try using .loc[row_indexer,col_indexer] = value instead\n",
            "\n",
            "See the caveats in the documentation: https://pandas.pydata.org/pandas-docs/stable/user_guide/indexing.html#returning-a-view-versus-a-copy\n",
            "  \"\"\"Entry point for launching an IPython kernel.\n"
          ],
          "name": "stderr"
        }
      ]
    },
    {
      "cell_type": "code",
      "metadata": {
        "id": "ba0KnzxjuiVn"
      },
      "source": [
        "#Descartamos las obras que duren menos de 20 minutos, cifra arbitraria que tomamos\n",
        "#como indicadora de datos anómalos:\n",
        "df_dur = df_dur[df_dur['duracion'] > 20] "
      ],
      "execution_count": 16,
      "outputs": []
    },
    {
      "cell_type": "markdown",
      "metadata": {
        "id": "5voW5AhqwRiZ"
      },
      "source": [
        "¿Cuál es la obra más corta?"
      ]
    },
    {
      "cell_type": "code",
      "metadata": {
        "colab": {
          "base_uri": "https://localhost:8080/",
          "height": 114
        },
        "id": "bBhEF4QnwLrp",
        "outputId": "a0dc2577-e937-4d55-c332-8ce6fd703373"
      },
      "source": [
        "df_dur[df_dur['duracion'] == df_dur['duracion'].min()]"
      ],
      "execution_count": 17,
      "outputs": [
        {
          "output_type": "execute_result",
          "data": {
            "text/html": [
              "<div>\n",
              "<style scoped>\n",
              "    .dataframe tbody tr th:only-of-type {\n",
              "        vertical-align: middle;\n",
              "    }\n",
              "\n",
              "    .dataframe tbody tr th {\n",
              "        vertical-align: top;\n",
              "    }\n",
              "\n",
              "    .dataframe thead th {\n",
              "        text-align: right;\n",
              "    }\n",
              "</style>\n",
              "<table border=\"1\" class=\"dataframe\">\n",
              "  <thead>\n",
              "    <tr style=\"text-align: right;\">\n",
              "      <th></th>\n",
              "      <th>titulo</th>\n",
              "      <th>teatro</th>\n",
              "      <th>anio</th>\n",
              "      <th>sinopsis</th>\n",
              "      <th>duracion</th>\n",
              "      <th>elenco</th>\n",
              "      <th>trailer</th>\n",
              "    </tr>\n",
              "  </thead>\n",
              "  <tbody>\n",
              "    <tr>\n",
              "      <th>20</th>\n",
              "      <td>ISABEL DE GUEVARA</td>\n",
              "      <td>Centro cultural 25 de mayo</td>\n",
              "      <td>2018</td>\n",
              "      <td>Una  obra  de  la  prestigiosa    Alicia  Muño...</td>\n",
              "      <td>41</td>\n",
              "      <td>[(Alicia Muñoz, Autoría), (María Esther Fernán...</td>\n",
              "      <td>https://www.teatrix.com/ver/isabel-de-guevara</td>\n",
              "    </tr>\n",
              "  </tbody>\n",
              "</table>\n",
              "</div>"
            ],
            "text/plain": [
              "               titulo  ...                                        trailer\n",
              "20  ISABEL DE GUEVARA  ...  https://www.teatrix.com/ver/isabel-de-guevara\n",
              "\n",
              "[1 rows x 7 columns]"
            ]
          },
          "metadata": {
            "tags": []
          },
          "execution_count": 17
        }
      ]
    },
    {
      "cell_type": "markdown",
      "metadata": {
        "id": "tq4EW3Wywliv"
      },
      "source": [
        "¿Y la más larga?"
      ]
    },
    {
      "cell_type": "code",
      "metadata": {
        "colab": {
          "base_uri": "https://localhost:8080/",
          "height": 185
        },
        "id": "gFXabItpwrt5",
        "outputId": "64caf813-1c05-48a4-9958-5836a24c7985"
      },
      "source": [
        "df_dur[df_dur['duracion'] == df_dur['duracion'].max()]"
      ],
      "execution_count": 18,
      "outputs": [
        {
          "output_type": "execute_result",
          "data": {
            "text/html": [
              "<div>\n",
              "<style scoped>\n",
              "    .dataframe tbody tr th:only-of-type {\n",
              "        vertical-align: middle;\n",
              "    }\n",
              "\n",
              "    .dataframe tbody tr th {\n",
              "        vertical-align: top;\n",
              "    }\n",
              "\n",
              "    .dataframe thead th {\n",
              "        text-align: right;\n",
              "    }\n",
              "</style>\n",
              "<table border=\"1\" class=\"dataframe\">\n",
              "  <thead>\n",
              "    <tr style=\"text-align: right;\">\n",
              "      <th></th>\n",
              "      <th>titulo</th>\n",
              "      <th>teatro</th>\n",
              "      <th>anio</th>\n",
              "      <th>sinopsis</th>\n",
              "      <th>duracion</th>\n",
              "      <th>elenco</th>\n",
              "      <th>trailer</th>\n",
              "    </tr>\n",
              "  </thead>\n",
              "  <tbody>\n",
              "    <tr>\n",
              "      <th>106</th>\n",
              "      <td>ESQUIZOPEñA, INTIMIDAD RIOPLATENSE</td>\n",
              "      <td>Paseo La Plaza</td>\n",
              "      <td>2015</td>\n",
              "      <td>El inolvidable Fernando Peña, trasgresor y cre...</td>\n",
              "      <td>172</td>\n",
              "      <td>[(Fernando Peña, Autoría), (Fernando Peña, Act...</td>\n",
              "      <td>https://www.teatrix.com/ver/esquizopena-intimi...</td>\n",
              "    </tr>\n",
              "  </tbody>\n",
              "</table>\n",
              "</div>"
            ],
            "text/plain": [
              "                                 titulo  ...                                            trailer\n",
              "106  ESQUIZOPEñA, INTIMIDAD RIOPLATENSE  ...  https://www.teatrix.com/ver/esquizopena-intimi...\n",
              "\n",
              "[1 rows x 7 columns]"
            ]
          },
          "metadata": {
            "tags": []
          },
          "execution_count": 18
        }
      ]
    },
    {
      "cell_type": "markdown",
      "metadata": {
        "id": "lmyKIMySw0to"
      },
      "source": [
        "¿Cuál es el promedio de duración de las obras?"
      ]
    },
    {
      "cell_type": "code",
      "metadata": {
        "colab": {
          "base_uri": "https://localhost:8080/"
        },
        "id": "bzsRsiCjw4M3",
        "outputId": "d8cf454b-c0e4-4006-984c-1a970d36524d"
      },
      "source": [
        "prom_dur = df_dur['duracion'].mean()\n",
        "print(f'El promedio de duración de las obras es de {round(prom_dur)} minutos.')"
      ],
      "execution_count": 19,
      "outputs": [
        {
          "output_type": "stream",
          "text": [
            "El promedio de duración de las obras es de 88 minutos.\n"
          ],
          "name": "stdout"
        }
      ]
    },
    {
      "cell_type": "markdown",
      "metadata": {
        "id": "Oy9imrczxTtI"
      },
      "source": [
        "¿Cómo se distribuyen las obras según su duración?"
      ]
    },
    {
      "cell_type": "code",
      "metadata": {
        "colab": {
          "base_uri": "https://localhost:8080/",
          "height": 235
        },
        "id": "jjuc7_0JxYRQ",
        "outputId": "bb2c1d21-65bd-4ce5-86ac-beb7e0d916ee"
      },
      "source": [
        "df_dur['duracion'].hist(figsize=(15,5));"
      ],
      "execution_count": 20,
      "outputs": [
        {
          "output_type": "display_data",
          "data": {
            "image/png": "[encoded data removed]",
            "text/plain": [
              "<Figure size 1080x360 with 1 Axes>"
            ]
          },
          "metadata": {
            "tags": [],
            "needs_background": "light"
          }
        }
      ]
    },
    {
      "cell_type": "markdown",
      "metadata": {
        "id": "tDEba_gXxsXa"
      },
      "source": [
        "Para finalizar, creamos un archivo de Excel con nuestro catálogo:"
      ]
    },
    {
      "cell_type": "code",
      "metadata": {
        "id": "wsI0lH5dxyin"
      },
      "source": [
        "catalogo.to_excel('catalogo_teatrix.xlsx')"
      ],
      "execution_count": 21,
      "outputs": []
    }
  ]
}