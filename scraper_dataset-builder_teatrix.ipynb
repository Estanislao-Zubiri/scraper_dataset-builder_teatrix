{
  "nbformat": 4,
  "nbformat_minor": 0,
  "metadata": {
    "colab": {
      "name": "scraper_dataset_builder_teatrix (1).ipynb",
      "provenance": []
    },
    "kernelspec": {
      "name": "python3",
      "display_name": "Python 3"
    }
  },
  "cells": [
    {
      "cell_type": "markdown",
      "metadata": {
        "id": "bxlwGbbCK9cr"
      },
      "source": [
        "# En este cuaderno crearemos un catálogo de las obras disponibles en la plataforma [Teatrix](https://www.teatrix.com/), analizaremos algunos de sus datos y finalmente extraeremos el listado en un archivo de Excel."
      ]
    },
    {
      "cell_type": "markdown",
      "metadata": {
        "id": "mFDFFlnQKw_j"
      },
      "source": [
        "En primer lugar, importamos las librerías necesarias para obtener el código de la página y filtrarlo mediante expresiones regulares:"
      ]
    },
    {
      "cell_type": "code",
      "metadata": {
        "id": "AwLZoibAJspV"
      },
      "source": [
        "import requests\n",
        "import re"
      ],
      "execution_count": 1,
      "outputs": []
    },
    {
      "cell_type": "markdown",
      "metadata": {
        "id": "F5gpgZSDLjPR"
      },
      "source": [
        "Hacemos el pedido a la web. Si el valor de su estatus es igual a 200, quiere decir que hemos tenido éxito:"
      ]
    },
    {
      "cell_type": "code",
      "metadata": {
        "colab": {
          "base_uri": "https://localhost:8080/"
        },
        "id": "lYRv7YOXLItp",
        "outputId": "011359ee-2b98-4e4b-cf06-7209066a0dfb"
      },
      "source": [
        "url = 'https://www.teatrix.com/'\n",
        "request = requests.get(url)\n",
        "request.status_code"
      ],
      "execution_count": 2,
      "outputs": [
        {
          "output_type": "execute_result",
          "data": {
            "text/plain": [
              "200"
            ]
          },
          "metadata": {
            "tags": []
          },
          "execution_count": 2
        }
      ]
    },
    {
      "cell_type": "markdown",
      "metadata": {
        "id": "FaHrTMV4L6Sh"
      },
      "source": [
        "A continuación obtenemos los nombres de las páginas que contienen cada una de las obras, ubicados en el texto luego de la expresión \"video/\"."
      ]
    },
    {
      "cell_type": "code",
      "metadata": {
        "colab": {
          "base_uri": "https://localhost:8080/"
        },
        "id": "y0D-7JOaM4SK",
        "outputId": "0dffaea8-02a6-4418-b0a1-c20502893461"
      },
      "source": [
        "pattern = 'video/(.+)\">'\n",
        "nombres = re.findall(pattern,request.text)\n",
        "print(f'La página principal de Teatrix nos devuelve {len(nombres)} nombres de obras')"
      ],
      "execution_count": 3,
      "outputs": [
        {
          "output_type": "stream",
          "text": [
            "La página principal de Teatrix nos devuelve 446 nombres de obras\n"
          ],
          "name": "stdout"
        }
      ]
    },
    {
      "cell_type": "markdown",
      "metadata": {
        "id": "jlm6ddJZl-yQ"
      },
      "source": [
        "Cada nombre puede aparecer más de una vez en el código, por lo cual necesitamos eliminar los repetidos. Para esto convertimos nuestra lista en un set, estructura que no contiene más de una ocurrencia de cada objeto:"
      ]
    },
    {
      "cell_type": "code",
      "metadata": {
        "colab": {
          "base_uri": "https://localhost:8080/"
        },
        "id": "Tc0RG0Y_lyv5",
        "outputId": "c39c0cf6-33a0-4921-b9bd-c85ee7e84f10"
      },
      "source": [
        "nombres = set(nombres)\n",
        "print(f'Actualmente, Teatrix cuenta con {len(nombres)} obras en su catálogo.')"
      ],
      "execution_count": 4,
      "outputs": [
        {
          "output_type": "stream",
          "text": [
            "Actualmente, Teatrix cuenta con 178 obras en su catálogo.\n"
          ],
          "name": "stdout"
        }
      ]
    },
    {
      "cell_type": "markdown",
      "metadata": {
        "id": "xMMoWuKyCXj9"
      },
      "source": [
        "Ahora creamos un diccionario con la expresión regular correspondiente a cada uno de los datos que queremos extraer:"
      ]
    },
    {
      "cell_type": "code",
      "metadata": {
        "id": "yp4e9_F3Zrrm"
      },
      "source": [
        "obras_regex = {'titulo':'title\">(.+)</h2','teatro':'origin\">(.+)</span>',\r\n",
        "               'anio':'date\">(\\d+)','sinopsis':'md\">\\s*(.+)',\r\n",
        "               'duracion':'duration\">(\\d+)  min',\r\n",
        "               'elenco':\"person=\\\\'(.*?)\\\\'\\srole=\\s\\\\'(.*?)\\\\'\\s\"}"
      ],
      "execution_count": 5,
      "outputs": []
    },
    {
      "cell_type": "code",
      "metadata": {
        "id": "ge3ezC9cRIsu"
      },
      "source": [
        ""
      ],
      "execution_count": null,
      "outputs": []
    },
    {
      "cell_type": "markdown",
      "metadata": {
        "id": "h2cQWt1rPWkm"
      },
      "source": [
        "Entonces ya podemos crear una lista que contenga nombre, teatro, año, duración, elenco y el link al trailer de cada una de las obras. Es posible que la siguiente celda tarde unos cuantos segundos en ejecutarse, ya que debe recorrer página por página y filtrar los datos que queremos en cada una de ellas:"
      ]
    },
    {
      "cell_type": "code",
      "metadata": {
        "id": "4ECOeFI3hi96"
      },
      "source": [
        "data = [] #Primero creamos la lista que iremos llenando con los datos de cada obra.\r\n",
        "for i in nombres: #Iniciamos un bucle que itere el proceso en la página de cada obra.\r\n",
        "  url_obra = f'{url}video/{i}' \r\n",
        "  obra_data = {} #Creamos un diccionario vacío cada vez que se inicia un ciclo.\r\n",
        "  while len(obra_data) < 1: #Repetimos el ciclo hasta asegurarnos de que obtuvimos\r\n",
        "  #datos, ya que puede suceder que a veces el request devuelva un objeto vacío. \r\n",
        "    html = requests.get(url_obra)\r\n",
        "    for nombre, regex in obras_regex.items():\r\n",
        "      dato = re.findall(regex, html.text)\r\n",
        "      if dato: #Si el dato en cuestión es hallado, lo agregamos al diccionario.\r\n",
        "        obra_data[nombre] = dato[0]\r\n",
        "  obra_data['trailer'] = f'{url}ver/{i}' #El trailer podemos\r\n",
        "  #agregarlo sin necesidad de recurrir a expresiones regulares.\r\n",
        "  data.append(obra_data)"
      ],
      "execution_count": 6,
      "outputs": []
    },
    {
      "cell_type": "markdown",
      "metadata": {
        "id": "aDeiALaHagvg"
      },
      "source": [
        "Vemos los primeros cinco elementos para comprobar que el proceso haya sido exitoso:"
      ]
    },
    {
      "cell_type": "code",
      "metadata": {
        "colab": {
          "base_uri": "https://localhost:8080/"
        },
        "id": "GEVwjLajaBDC",
        "outputId": "95fb177b-8c4f-4829-ba36-67e6d4203214"
      },
      "source": [
        "data[:5]"
      ],
      "execution_count": 7,
      "outputs": [
        {
          "output_type": "execute_result",
          "data": {
            "text/plain": [
              "[{'anio': '2009',\n",
              "  'duracion': '88',\n",
              "  'elenco': ('Oscar Martínez', 'Autoría'),\n",
              "  'sinopsis': '¿La escena es reflejo de la vida o viceversa? Este interrogante plantea la obra escrita, dirigida y protagonizada por Oscar Martínez, junto a Claudia Fontan. Un matrimonio de actores ensaya y confronta su realidad entre reproches, dolor, risa, ironía y sutil reflexión sobre las relaciones de pareja.</p>',\n",
              "  'teatro': 'Buenos Aires',\n",
              "  'titulo': 'PURA FICCIóN',\n",
              "  'trailer': 'https://www.teatrix.com/ver/pura-ficcion'},\n",
              " {'anio': '2018',\n",
              "  'duracion': '72',\n",
              "  'elenco': ('Juan Leyrado', 'Actor'),\n",
              "  'sinopsis': 'En su primer unipersonal, Juan Leyrado pone todo su talento al servicio del humor y las emociones.</p>',\n",
              "  'teatro': 'Multiteatro',\n",
              "  'titulo': 'EL ELOGIO DE LA RISA',\n",
              "  'trailer': 'https://www.teatrix.com/ver/el-elogio-de-la-risa'},\n",
              " {'anio': '2013',\n",
              "  'duracion': '146',\n",
              "  'sinopsis': 'Karen y Lorene &nbsp;están en la cubierta del barco &nbsp;mientras  abandonan  Hawai .Recuerdan esos días donde el amor y la pasión &nbsp;fue  una trinchera en medio de los bombardeos. Aún no saben si  sus prometidos, el sargento Milton y el soldado Prewitt, han sobrevivido &nbsp;o si son  parte de lo que se pasó a recordarse  como  los héroes del 41.</p>',\n",
              "  'teatro': 'Londres',\n",
              "  'titulo': 'DE AQUí A LA ETERNIDAD',\n",
              "  'trailer': 'https://www.teatrix.com/ver/from-here-to-eternity'},\n",
              " {'anio': '2016',\n",
              "  'duracion': '68',\n",
              "  'sinopsis': 'La obra escrita por J. Accame y\\r dirigida de H. Tritek presenta una madama ciega que, en su prostíbulo jujeño, desea\\r viajar a Venecia para pedir perdón a un antiguo amor, a quien estafó. Venciendo\\r la pobreza y la ignorancia, con humor y ternura, sus tres pupilas y un cliente fingen\\r el soñado viaje.</p>',\n",
              "  'teatro': 'El Cubo',\n",
              "  'titulo': 'VENECIA',\n",
              "  'trailer': 'https://www.teatrix.com/ver/venecia'},\n",
              " {'anio': '2017',\n",
              "  'duracion': '111',\n",
              "  'sinopsis': 'Gardel. Teatro Musical Argentino es la vida de un símbolo, desde antes de serlo. De las milongas camperas y el dúo con José Razzano a París y Hollywood, pero también los aspectos menos conocidos de su breve pero intensísimo recorrido vital. En este minucioso trabajo ganador de múltiples premios y nominaciones, Gardel es la estrella internacional pero, sobre todo, el singular hombre que fue.\\r',\n",
              "  'teatro': 'Teatro Ludé',\n",
              "  'titulo': 'GARDEL, TEATRO MUSICAL ARGENTINO',\n",
              "  'trailer': 'https://www.teatrix.com/ver/gardel-teatro-musical-argentino'}]"
            ]
          },
          "metadata": {
            "tags": []
          },
          "execution_count": 7
        }
      ]
    },
    {
      "cell_type": "markdown",
      "metadata": {
        "id": "tVDfEx2oSXXL"
      },
      "source": [
        "Antes de seguir importamos la librería Pandas, la cual nos ayudará a manipular los datos:"
      ]
    },
    {
      "cell_type": "code",
      "metadata": {
        "id": "lA-SgZYNSWvZ"
      },
      "source": [
        "import pandas as pd"
      ],
      "execution_count": 8,
      "outputs": []
    },
    {
      "cell_type": "markdown",
      "metadata": {
        "id": "nnDTGC-Pa5i4"
      },
      "source": [
        "Ahora sí, creamos nuestro catálogo y lo revisamos tomando una muestra al azar:"
      ]
    },
    {
      "cell_type": "code",
      "metadata": {
        "colab": {
          "base_uri": "https://localhost:8080/",
          "height": 476
        },
        "id": "Sc2YDjyM4GGS",
        "outputId": "d74fc311-c03c-4712-dfaf-2010fbc34713"
      },
      "source": [
        "catalogo = pd.DataFrame(data)\r\n",
        "print(catalogo.shape)\r\n",
        "catalogo.sample(5)"
      ],
      "execution_count": 9,
      "outputs": [
        {
          "output_type": "stream",
          "text": [
            "(178, 7)\n"
          ],
          "name": "stdout"
        },
        {
          "output_type": "execute_result",
          "data": {
            "text/html": [
              "<div>\n",
              "<style scoped>\n",
              "    .dataframe tbody tr th:only-of-type {\n",
              "        vertical-align: middle;\n",
              "    }\n",
              "\n",
              "    .dataframe tbody tr th {\n",
              "        vertical-align: top;\n",
              "    }\n",
              "\n",
              "    .dataframe thead th {\n",
              "        text-align: right;\n",
              "    }\n",
              "</style>\n",
              "<table border=\"1\" class=\"dataframe\">\n",
              "  <thead>\n",
              "    <tr style=\"text-align: right;\">\n",
              "      <th></th>\n",
              "      <th>titulo</th>\n",
              "      <th>teatro</th>\n",
              "      <th>anio</th>\n",
              "      <th>sinopsis</th>\n",
              "      <th>duracion</th>\n",
              "      <th>elenco</th>\n",
              "      <th>trailer</th>\n",
              "    </tr>\n",
              "  </thead>\n",
              "  <tbody>\n",
              "    <tr>\n",
              "      <th>174</th>\n",
              "      <td>BRUJAS</td>\n",
              "      <td>Teatro Ateneo</td>\n",
              "      <td>1992</td>\n",
              "      <td>Moria Casán, Graciela Dufau, Nora Cárpena, The...</td>\n",
              "      <td>102</td>\n",
              "      <td>NaN</td>\n",
              "      <td>https://www.teatrix.com/ver/brujas</td>\n",
              "    </tr>\n",
              "    <tr>\n",
              "      <th>36</th>\n",
              "      <td>TU CUNA FUE UN CONVENTILLO</td>\n",
              "      <td>Cuarentena</td>\n",
              "      <td>2020</td>\n",
              "      <td>Los cien años de uno de los sainetes criollos ...</td>\n",
              "      <td>54</td>\n",
              "      <td>(Santiago Doria, Versión )</td>\n",
              "      <td>https://www.teatrix.com/ver/tu-cuna-fue-un-con...</td>\n",
              "    </tr>\n",
              "    <tr>\n",
              "      <th>83</th>\n",
              "      <td>COMO SI PASARA UN TREN</td>\n",
              "      <td>Teatro Picadero</td>\n",
              "      <td>2020</td>\n",
              "      <td>La obra de Lorena Romanin deja, sin buscarlo, ...</td>\n",
              "      <td>80</td>\n",
              "      <td>NaN</td>\n",
              "      <td>https://www.teatrix.com/ver/como-si-pasara-un-...</td>\n",
              "    </tr>\n",
              "    <tr>\n",
              "      <th>107</th>\n",
              "      <td>ACALORADAS</td>\n",
              "      <td>Teatro Regina TSU</td>\n",
              "      <td>2018</td>\n",
              "      <td>En Acaloradas, Patricia Echegoyen, María Ferna...</td>\n",
              "      <td>90</td>\n",
              "      <td>(María Fernanda Callejón, Actriz )</td>\n",
              "      <td>https://www.teatrix.com/ver/acaloradas</td>\n",
              "    </tr>\n",
              "    <tr>\n",
              "      <th>104</th>\n",
              "      <td>TITA UNA VIDA EN TIEMPO DE TANGO</td>\n",
              "      <td>Teatro Metropolitan</td>\n",
              "      <td>2011</td>\n",
              "      <td>Nacha Guevara y un elenco de excelentes cantan...</td>\n",
              "      <td>107</td>\n",
              "      <td>(Nacha Guevara, Autoría)</td>\n",
              "      <td>https://www.teatrix.com/ver/tita-una-vida-en-t...</td>\n",
              "    </tr>\n",
              "  </tbody>\n",
              "</table>\n",
              "</div>"
            ],
            "text/plain": [
              "                               titulo  ...                                            trailer\n",
              "174                            BRUJAS  ...                 https://www.teatrix.com/ver/brujas\n",
              "36         TU CUNA FUE UN CONVENTILLO  ...  https://www.teatrix.com/ver/tu-cuna-fue-un-con...\n",
              "83             COMO SI PASARA UN TREN  ...  https://www.teatrix.com/ver/como-si-pasara-un-...\n",
              "107                        ACALORADAS  ...             https://www.teatrix.com/ver/acaloradas\n",
              "104  TITA UNA VIDA EN TIEMPO DE TANGO  ...  https://www.teatrix.com/ver/tita-una-vida-en-t...\n",
              "\n",
              "[5 rows x 7 columns]"
            ]
          },
          "metadata": {
            "tags": []
          },
          "execution_count": 9
        }
      ]
    },
    {
      "cell_type": "markdown",
      "metadata": {
        "id": "XdxT56sZfkvQ"
      },
      "source": [
        "¿Coincide la cantidad de nombres que extrajimos al principio con la longitud del DataFrame?"
      ]
    },
    {
      "cell_type": "code",
      "metadata": {
        "id": "3XplPx7pfVAp"
      },
      "source": [
        "#Si esta celda no devuelve nada es porque las cantidades efectivamente coinciden.\r\n",
        "assert len(nombres) == len(catalogo), 'Las cantidades no coinciden'"
      ],
      "execution_count": 10,
      "outputs": []
    },
    {
      "cell_type": "markdown",
      "metadata": {
        "id": "IpP5ZJXGowXw"
      },
      "source": [
        "¿Cuáles son las obras más viejas del catálogo?"
      ]
    },
    {
      "cell_type": "code",
      "metadata": {
        "colab": {
          "base_uri": "https://localhost:8080/",
          "height": 456
        },
        "id": "uDcO85tQo1e_",
        "outputId": "1f590634-2180-494a-d4e4-45aaab353d2e"
      },
      "source": [
        "catalogo[catalogo['anio'] == catalogo['anio'].min()]"
      ],
      "execution_count": 11,
      "outputs": [
        {
          "output_type": "execute_result",
          "data": {
            "text/html": [
              "<div>\n",
              "<style scoped>\n",
              "    .dataframe tbody tr th:only-of-type {\n",
              "        vertical-align: middle;\n",
              "    }\n",
              "\n",
              "    .dataframe tbody tr th {\n",
              "        vertical-align: top;\n",
              "    }\n",
              "\n",
              "    .dataframe thead th {\n",
              "        text-align: right;\n",
              "    }\n",
              "</style>\n",
              "<table border=\"1\" class=\"dataframe\">\n",
              "  <thead>\n",
              "    <tr style=\"text-align: right;\">\n",
              "      <th></th>\n",
              "      <th>titulo</th>\n",
              "      <th>teatro</th>\n",
              "      <th>anio</th>\n",
              "      <th>sinopsis</th>\n",
              "      <th>duracion</th>\n",
              "      <th>elenco</th>\n",
              "      <th>trailer</th>\n",
              "    </tr>\n",
              "  </thead>\n",
              "  <tbody>\n",
              "    <tr>\n",
              "      <th>9</th>\n",
              "      <td>ALTA COMEDIA: SEIS PERSONAJES EN BUSCA DE UN A...</td>\n",
              "      <td>Canal 9</td>\n",
              "      <td>1992</td>\n",
              "      <td>Un episodio de Alta comedia, el histórico cicl...</td>\n",
              "      <td>64</td>\n",
              "      <td>(Mauricio Dayub, Actor)</td>\n",
              "      <td>https://www.teatrix.com/ver/alta-comedia-seis-...</td>\n",
              "    </tr>\n",
              "    <tr>\n",
              "      <th>35</th>\n",
              "      <td>ALTA COMEDIA: LA SANGRE DE LOS ORTIZ</td>\n",
              "      <td>Canal 9</td>\n",
              "      <td>1992</td>\n",
              "      <td>Un episodio de Alta comedia, el histórico cicl...</td>\n",
              "      <td>61</td>\n",
              "      <td>(Marcela Ferradás, Actriz )</td>\n",
              "      <td>https://www.teatrix.com/ver/alta-comedia-la-sa...</td>\n",
              "    </tr>\n",
              "    <tr>\n",
              "      <th>108</th>\n",
              "      <td>ALTA COMEDIA: HOY DIGO BASTA</td>\n",
              "      <td>Canal 9</td>\n",
              "      <td>1992</td>\n",
              "      <td>Un episodio de Alta Comedia, el histórico cicl...</td>\n",
              "      <td>74</td>\n",
              "      <td>NaN</td>\n",
              "      <td>https://www.teatrix.com/ver/alta-comedia-hoy-d...</td>\n",
              "    </tr>\n",
              "    <tr>\n",
              "      <th>120</th>\n",
              "      <td>ALTA COMEDIA: PERSONA NO GRATA</td>\n",
              "      <td>Canal 9</td>\n",
              "      <td>1992</td>\n",
              "      <td>Un episodio de Alta comedia, el histórico cicl...</td>\n",
              "      <td>54</td>\n",
              "      <td>NaN</td>\n",
              "      <td>https://www.teatrix.com/ver/alta-comedia-perso...</td>\n",
              "    </tr>\n",
              "    <tr>\n",
              "      <th>132</th>\n",
              "      <td>ALTA COMEDIA: SIN SALIDA</td>\n",
              "      <td>Canal 9</td>\n",
              "      <td>1992</td>\n",
              "      <td>Un episodio de Alta comedia, el histórico cicl...</td>\n",
              "      <td>70</td>\n",
              "      <td>NaN</td>\n",
              "      <td>https://www.teatrix.com/ver/alta-comedia-sin-s...</td>\n",
              "    </tr>\n",
              "    <tr>\n",
              "      <th>174</th>\n",
              "      <td>BRUJAS</td>\n",
              "      <td>Teatro Ateneo</td>\n",
              "      <td>1992</td>\n",
              "      <td>Moria Casán, Graciela Dufau, Nora Cárpena, The...</td>\n",
              "      <td>102</td>\n",
              "      <td>NaN</td>\n",
              "      <td>https://www.teatrix.com/ver/brujas</td>\n",
              "    </tr>\n",
              "  </tbody>\n",
              "</table>\n",
              "</div>"
            ],
            "text/plain": [
              "                                                titulo  ...                                            trailer\n",
              "9    ALTA COMEDIA: SEIS PERSONAJES EN BUSCA DE UN A...  ...  https://www.teatrix.com/ver/alta-comedia-seis-...\n",
              "35                ALTA COMEDIA: LA SANGRE DE LOS ORTIZ  ...  https://www.teatrix.com/ver/alta-comedia-la-sa...\n",
              "108                       ALTA COMEDIA: HOY DIGO BASTA  ...  https://www.teatrix.com/ver/alta-comedia-hoy-d...\n",
              "120                     ALTA COMEDIA: PERSONA NO GRATA  ...  https://www.teatrix.com/ver/alta-comedia-perso...\n",
              "132                           ALTA COMEDIA: SIN SALIDA  ...  https://www.teatrix.com/ver/alta-comedia-sin-s...\n",
              "174                                             BRUJAS  ...                 https://www.teatrix.com/ver/brujas\n",
              "\n",
              "[6 rows x 7 columns]"
            ]
          },
          "metadata": {
            "tags": []
          },
          "execution_count": 11
        }
      ]
    },
    {
      "cell_type": "markdown",
      "metadata": {
        "id": "E6oKUE9ogFtR"
      },
      "source": [
        "¿De qué años son la mayoría de las obras?"
      ]
    },
    {
      "cell_type": "code",
      "metadata": {
        "colab": {
          "base_uri": "https://localhost:8080/",
          "height": 308
        },
        "id": "9QNwFmUyf1mh",
        "outputId": "e1d7237b-db9e-44a2-cc6d-84e5587ae4bf"
      },
      "source": [
        "catalogo['anio'].hist(figsize=(15,5));"
      ],
      "execution_count": 12,
      "outputs": [
        {
          "output_type": "display_data",
          "data": {
            "image/png": "[encoded data removed]",
            "text/plain": [
              "<Figure size 1080x360 with 1 Axes>"
            ]
          },
          "metadata": {
            "tags": [],
            "needs_background": "light"
          }
        }
      ]
    },
    {
      "cell_type": "markdown",
      "metadata": {
        "id": "NZM83zk3qC4o"
      },
      "source": [
        "Ahora crearemos otro DataFrame para analizar la duración de las obras, eliminando los valores nulos, convirtiendo los minutos en datos operables y descartando aquellos que resulten anómalos:"
      ]
    },
    {
      "cell_type": "code",
      "metadata": {
        "id": "6nBz9M0Ap6vf",
        "colab": {
          "base_uri": "https://localhost:8080/"
        },
        "outputId": "5f337496-b653-4130-9841-4c0919479eb4"
      },
      "source": [
        "df_dur = catalogo.dropna(subset=['duracion'])\r\n",
        "df_dur.shape"
      ],
      "execution_count": 13,
      "outputs": [
        {
          "output_type": "execute_result",
          "data": {
            "text/plain": [
              "(175, 7)"
            ]
          },
          "metadata": {
            "tags": []
          },
          "execution_count": 13
        }
      ]
    },
    {
      "cell_type": "code",
      "metadata": {
        "colab": {
          "base_uri": "https://localhost:8080/"
        },
        "id": "dBPlghIwtq2r",
        "outputId": "9c3d7a0c-f748-4e69-8b69-4b32f546af0e"
      },
      "source": [
        "df_dur['duracion'] = df_dur['duracion'].astype(int)"
      ],
      "execution_count": 14,
      "outputs": [
        {
          "output_type": "stream",
          "text": [
            "/usr/local/lib/python3.6/dist-packages/ipykernel_launcher.py:1: SettingWithCopyWarning: \n",
            "A value is trying to be set on a copy of a slice from a DataFrame.\n",
            "Try using .loc[row_indexer,col_indexer] = value instead\n",
            "\n",
            "See the caveats in the documentation: https://pandas.pydata.org/pandas-docs/stable/user_guide/indexing.html#returning-a-view-versus-a-copy\n",
            "  \"\"\"Entry point for launching an IPython kernel.\n"
          ],
          "name": "stderr"
        }
      ]
    },
    {
      "cell_type": "code",
      "metadata": {
        "id": "ba0KnzxjuiVn"
      },
      "source": [
        "#Descartamos las obras que duren menos de 20 minutos, cifra arbitraria que tomamos\n",
        "#como indicadora de datos anómalos:\n",
        "df_dur = df_dur[df_dur['duracion'] > 20] "
      ],
      "execution_count": 15,
      "outputs": []
    },
    {
      "cell_type": "markdown",
      "metadata": {
        "id": "5voW5AhqwRiZ"
      },
      "source": [
        "¿Cuál es la obra más corta?"
      ]
    },
    {
      "cell_type": "code",
      "metadata": {
        "colab": {
          "base_uri": "https://localhost:8080/",
          "height": 114
        },
        "id": "bBhEF4QnwLrp",
        "outputId": "32523fb4-1a19-4028-9a35-67d3053b589f"
      },
      "source": [
        "df_dur[df_dur['duracion'] == df_dur['duracion'].min()]"
      ],
      "execution_count": 16,
      "outputs": [
        {
          "output_type": "execute_result",
          "data": {
            "text/html": [
              "<div>\n",
              "<style scoped>\n",
              "    .dataframe tbody tr th:only-of-type {\n",
              "        vertical-align: middle;\n",
              "    }\n",
              "\n",
              "    .dataframe tbody tr th {\n",
              "        vertical-align: top;\n",
              "    }\n",
              "\n",
              "    .dataframe thead th {\n",
              "        text-align: right;\n",
              "    }\n",
              "</style>\n",
              "<table border=\"1\" class=\"dataframe\">\n",
              "  <thead>\n",
              "    <tr style=\"text-align: right;\">\n",
              "      <th></th>\n",
              "      <th>titulo</th>\n",
              "      <th>teatro</th>\n",
              "      <th>anio</th>\n",
              "      <th>sinopsis</th>\n",
              "      <th>duracion</th>\n",
              "      <th>elenco</th>\n",
              "      <th>trailer</th>\n",
              "    </tr>\n",
              "  </thead>\n",
              "  <tbody>\n",
              "    <tr>\n",
              "      <th>144</th>\n",
              "      <td>ISABEL DE GUEVARA</td>\n",
              "      <td>Centro cultural 25 de mayo</td>\n",
              "      <td>2018</td>\n",
              "      <td>Una  obra  de  la  prestigiosa    Alicia  Muño...</td>\n",
              "      <td>41</td>\n",
              "      <td>(Mónica Villa, Actriz )</td>\n",
              "      <td>https://www.teatrix.com/ver/isabel-de-guevara</td>\n",
              "    </tr>\n",
              "  </tbody>\n",
              "</table>\n",
              "</div>"
            ],
            "text/plain": [
              "                titulo  ...                                        trailer\n",
              "144  ISABEL DE GUEVARA  ...  https://www.teatrix.com/ver/isabel-de-guevara\n",
              "\n",
              "[1 rows x 7 columns]"
            ]
          },
          "metadata": {
            "tags": []
          },
          "execution_count": 16
        }
      ]
    },
    {
      "cell_type": "markdown",
      "metadata": {
        "id": "tq4EW3Wywliv"
      },
      "source": [
        "¿Y la más larga?"
      ]
    },
    {
      "cell_type": "code",
      "metadata": {
        "colab": {
          "base_uri": "https://localhost:8080/",
          "height": 114
        },
        "id": "gFXabItpwrt5",
        "outputId": "abefe2d6-24da-4a26-dec2-d0c46c0ab76a"
      },
      "source": [
        "df_dur[df_dur['duracion'] == df_dur['duracion'].max()]"
      ],
      "execution_count": 17,
      "outputs": [
        {
          "output_type": "execute_result",
          "data": {
            "text/html": [
              "<div>\n",
              "<style scoped>\n",
              "    .dataframe tbody tr th:only-of-type {\n",
              "        vertical-align: middle;\n",
              "    }\n",
              "\n",
              "    .dataframe tbody tr th {\n",
              "        vertical-align: top;\n",
              "    }\n",
              "\n",
              "    .dataframe thead th {\n",
              "        text-align: right;\n",
              "    }\n",
              "</style>\n",
              "<table border=\"1\" class=\"dataframe\">\n",
              "  <thead>\n",
              "    <tr style=\"text-align: right;\">\n",
              "      <th></th>\n",
              "      <th>titulo</th>\n",
              "      <th>teatro</th>\n",
              "      <th>anio</th>\n",
              "      <th>sinopsis</th>\n",
              "      <th>duracion</th>\n",
              "      <th>elenco</th>\n",
              "      <th>trailer</th>\n",
              "    </tr>\n",
              "  </thead>\n",
              "  <tbody>\n",
              "    <tr>\n",
              "      <th>29</th>\n",
              "      <td>ESQUIZOPEñA, INTIMIDAD RIOPLATENSE</td>\n",
              "      <td>Paseo La Plaza</td>\n",
              "      <td>2015</td>\n",
              "      <td>El inolvidable Fernando Peña, trasgresor y cre...</td>\n",
              "      <td>172</td>\n",
              "      <td>NaN</td>\n",
              "      <td>https://www.teatrix.com/ver/esquizopena-intimi...</td>\n",
              "    </tr>\n",
              "  </tbody>\n",
              "</table>\n",
              "</div>"
            ],
            "text/plain": [
              "                                titulo  ...                                            trailer\n",
              "29  ESQUIZOPEñA, INTIMIDAD RIOPLATENSE  ...  https://www.teatrix.com/ver/esquizopena-intimi...\n",
              "\n",
              "[1 rows x 7 columns]"
            ]
          },
          "metadata": {
            "tags": []
          },
          "execution_count": 17
        }
      ]
    },
    {
      "cell_type": "markdown",
      "metadata": {
        "id": "lmyKIMySw0to"
      },
      "source": [
        "¿Cuál es el promedio de duración de las obras?"
      ]
    },
    {
      "cell_type": "code",
      "metadata": {
        "colab": {
          "base_uri": "https://localhost:8080/"
        },
        "id": "bzsRsiCjw4M3",
        "outputId": "65c81966-9634-4f80-f6f7-307b241531c1"
      },
      "source": [
        "prom_dur = df_dur['duracion'].mean()\n",
        "print(f'El promedio de duración de las obras es de {round(prom_dur)} minutos.')"
      ],
      "execution_count": 18,
      "outputs": [
        {
          "output_type": "stream",
          "text": [
            "El promedio de duración de las obras es de 88 minutos.\n"
          ],
          "name": "stdout"
        }
      ]
    },
    {
      "cell_type": "markdown",
      "metadata": {
        "id": "Oy9imrczxTtI"
      },
      "source": [
        "¿Cómo se distribuyen las obras según su duración?"
      ]
    },
    {
      "cell_type": "code",
      "metadata": {
        "colab": {
          "base_uri": "https://localhost:8080/",
          "height": 235
        },
        "id": "jjuc7_0JxYRQ",
        "outputId": "863e2e99-3343-407b-82bd-ba584c1def68"
      },
      "source": [
        "df_dur['duracion'].hist(figsize=(15,5));"
      ],
      "execution_count": 19,
      "outputs": [
        {
          "output_type": "display_data",
          "data": {
            "image/png": "[encoded data removed]",
            "text/plain": [
              "<Figure size 1080x360 with 1 Axes>"
            ]
          },
          "metadata": {
            "tags": [],
            "needs_background": "light"
          }
        }
      ]
    },
    {
      "cell_type": "markdown",
      "metadata": {
        "id": "tDEba_gXxsXa"
      },
      "source": [
        "Para finalizar, creamos un archivo de Excel con nuestro catálogo:"
      ]
    },
    {
      "cell_type": "code",
      "metadata": {
        "id": "wsI0lH5dxyin"
      },
      "source": [
        "catalogo.to_excel('catalogo_teatrix.xlsx')"
      ],
      "execution_count": 20,
      "outputs": []
    }
  ]
}