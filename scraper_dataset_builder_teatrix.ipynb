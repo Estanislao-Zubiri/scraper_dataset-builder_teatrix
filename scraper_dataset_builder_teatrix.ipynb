{
  "nbformat": 4,
  "nbformat_minor": 0,
  "metadata": {
    "colab": {
      "name": "scraper_dataset-builder_teatrix.ipynb",
      "provenance": []
    },
    "kernelspec": {
      "name": "python3",
      "display_name": "Python 3"
    }
  },
  "cells": [
    {
      "cell_type": "markdown",
      "metadata": {
        "id": "bxlwGbbCK9cr"
      },
      "source": [
        "# En este cuaderno crearemos un catálogo de las obras disponibles en la plataforma [Teatrix](https://www.teatrix.com/), analizaremos algunos de sus datos y finalmente extraeremos el listado en un archivo de Excel."
      ]
    },
    {
      "cell_type": "markdown",
      "metadata": {
        "id": "mFDFFlnQKw_j"
      },
      "source": [
        "En primer lugar, importamos las librerías necesarias para obtener el código de la página y filtrarlo mediante expresiones regulares:"
      ]
    },
    {
      "cell_type": "code",
      "metadata": {
        "id": "AwLZoibAJspV"
      },
      "source": [
        "import requests\n",
        "import re"
      ],
      "execution_count": 1,
      "outputs": []
    },
    {
      "cell_type": "markdown",
      "metadata": {
        "id": "F5gpgZSDLjPR"
      },
      "source": [
        "Hacemos el pedido a la web. Si el valor de su estatus es igual a 200, quiere decir que hemos tenido éxito:"
      ]
    },
    {
      "cell_type": "code",
      "metadata": {
        "colab": {
          "base_uri": "https://localhost:8080/"
        },
        "id": "lYRv7YOXLItp",
        "outputId": "fbec7d35-ba6d-451b-923d-748cb027bf37"
      },
      "source": [
        "url = 'https://www.teatrix.com/'\n",
        "request = requests.get(url)\n",
        "request.status_code"
      ],
      "execution_count": 2,
      "outputs": [
        {
          "output_type": "execute_result",
          "data": {
            "text/plain": [
              "200"
            ]
          },
          "metadata": {
            "tags": []
          },
          "execution_count": 2
        }
      ]
    },
    {
      "cell_type": "markdown",
      "metadata": {
        "id": "FaHrTMV4L6Sh"
      },
      "source": [
        "A continuación obtenemos los nombres de las páginas que contienen cada una de las obras, ubicados en el texto luego de la expresión \"video/\"."
      ]
    },
    {
      "cell_type": "code",
      "metadata": {
        "colab": {
          "base_uri": "https://localhost:8080/"
        },
        "id": "y0D-7JOaM4SK",
        "outputId": "8a06988d-5fd7-4880-c157-88eeffde4fdf"
      },
      "source": [
        "pattern = 'video/(.+)\">'\n",
        "nombres = re.findall(pattern,request.text)\n",
        "print(f'La página principal de Teatrix nos devuelve {len(nombres)} nombres de obras')"
      ],
      "execution_count": 3,
      "outputs": [
        {
          "output_type": "stream",
          "text": [
            "La página principal de Teatrix nos devuelve 446 nombres de obras\n"
          ],
          "name": "stdout"
        }
      ]
    },
    {
      "cell_type": "markdown",
      "metadata": {
        "id": "jlm6ddJZl-yQ"
      },
      "source": [
        "Cada nombre puede aparecer más de una vez en el código, por lo cual necesitamos eliminar los repetidos. Para esto convertimos nuestra lista en un set, estructura que no contiene más de una ocurrencia de cada objeto:"
      ]
    },
    {
      "cell_type": "code",
      "metadata": {
        "colab": {
          "base_uri": "https://localhost:8080/"
        },
        "id": "Tc0RG0Y_lyv5",
        "outputId": "a6920718-72ab-4b45-e1a8-111b81b3124a"
      },
      "source": [
        "nombres = set(nombres)\n",
        "print(f'Actualmente, Teatrix cuenta con {len(nombres)} obras en su catálogo.')"
      ],
      "execution_count": 4,
      "outputs": [
        {
          "output_type": "stream",
          "text": [
            "Actualmente, Teatrix cuenta con 178 obras en su catálogo.\n"
          ],
          "name": "stdout"
        }
      ]
    },
    {
      "cell_type": "markdown",
      "metadata": {
        "id": "xMMoWuKyCXj9"
      },
      "source": [
        "Ahora creamos un diccionario con la expresión regular correspondiente a cada uno de los datos que queremos extraer:"
      ]
    },
    {
      "cell_type": "code",
      "metadata": {
        "id": "yp4e9_F3Zrrm"
      },
      "source": [
        "obras_regex = {'titulo':'title\">(.+)</h2','teatro':'origin\">(.+)</span>',\r\n",
        "               'anio':'date\">(\\d+)','sinopsis':'md\">\\s*(.+)',\r\n",
        "               'duracion':'duration\">(\\d+)  min'}\r\n",
        "elenco_regex = '\"person\">(.*?)\\s<span\\sclass=\"role\">[(](.*?)[)]<'"
      ],
      "execution_count": 5,
      "outputs": []
    },
    {
      "cell_type": "markdown",
      "metadata": {
        "id": "h2cQWt1rPWkm"
      },
      "source": [
        "Entonces ya podemos crear una lista que contenga nombre, teatro, año, duración, elenco y el link al trailer de cada una de las obras. Es posible que la siguiente celda tarde unos cuantos segundos en ejecutarse, ya que debe recorrer página por página y filtrar los datos que queremos en cada una de ellas:"
      ]
    },
    {
      "cell_type": "code",
      "metadata": {
        "id": "4ECOeFI3hi96"
      },
      "source": [
        "data = [] #Primero creamos la lista que iremos llenando con los datos de cada obra.\r\n",
        "for i in nombres: #Iniciamos un bucle que itere el proceso en la página de cada obra.\r\n",
        "  url_obra = f'{url}video/{i}' \r\n",
        "  obra_data = {} #Creamos un diccionario vacío cada vez que se inicia un ciclo.\r\n",
        "  while len(obra_data) < 1: #Repetimos el ciclo hasta asegurarnos de que obtuvimos\r\n",
        "  #datos, ya que puede suceder que a veces el request devuelva un objeto vacío. \r\n",
        "    html = requests.get(url_obra)\r\n",
        "    for nombre, regex in obras_regex.items():\r\n",
        "      dato = re.findall(regex, html.text)\r\n",
        "      if dato: #Si el dato en cuestión es hallado, lo agregamos al diccionario...\r\n",
        "        obra_data[nombre] = dato[0] #...tomando el primer elemento para evitar corchetes.\r\n",
        "  obra_data['elenco'] = re.findall(elenco_regex, html.text) #Del elenco queremos\r\n",
        "  #la lista completa.\r\n",
        "  obra_data['trailer'] = f'{url}ver/{i}' #El trailer podemos agregarlo sin necesidad\r\n",
        "  #de recurrir a expresiones regulares.\r\n",
        "  data.append(obra_data)"
      ],
      "execution_count": 6,
      "outputs": []
    },
    {
      "cell_type": "markdown",
      "metadata": {
        "id": "aDeiALaHagvg"
      },
      "source": [
        "Vemos los primeros cinco elementos para comprobar que el proceso haya sido exitoso:"
      ]
    },
    {
      "cell_type": "code",
      "metadata": {
        "id": "GEVwjLajaBDC",
        "colab": {
          "base_uri": "https://localhost:8080/"
        },
        "outputId": "ec909bc8-d6ca-4f4b-b56e-62d2cf07dfac"
      },
      "source": [
        "data[:4]"
      ],
      "execution_count": 7,
      "outputs": [
        {
          "output_type": "execute_result",
          "data": {
            "text/plain": [
              "[{'anio': '1993',\n",
              "  'duracion': '76',\n",
              "  'elenco': [('Jorge Cavanet', 'Autoría'),\n",
              "   ('Martín Clutet', 'Director'),\n",
              "   ('María Aurelia Bisutti', 'Actriz '),\n",
              "   ('Raúl Aubel', 'Actor'),\n",
              "   ('Susana Ortiz', 'Actriz '),\n",
              "   ('Pablo Echarri', 'Actor'),\n",
              "   ('Pachi Armas', 'Actriz '),\n",
              "   ('Magalí Moro', 'Actriz '),\n",
              "   ('Celia Juarez', 'Actriz '),\n",
              "   ('Pochi Grey', 'Actriz '),\n",
              "   ('Regina Lamm', 'Actriz '),\n",
              "   ('Martín Coria', 'Actor'),\n",
              "   ('Adriana Gardiazabal', 'Actriz ')],\n",
              "  'sinopsis': 'Un episodio de Alta Comedia, el histórico ciclo televisivo del viejo Canal 9 que fue -y es al día del hoy- el referente del teatro en la tele. Para nosotros es el más querido antecedente de Teatrix.</p>',\n",
              "  'teatro': 'Canal 9',\n",
              "  'titulo': 'ALTA COMEDIA: LA MARCA DEL ORILLO',\n",
              "  'trailer': 'https://www.teatrix.com/ver/alta-comedia-la-marca-del-orillo'},\n",
              " {'anio': '2016',\n",
              "  'duracion': '71',\n",
              "  'elenco': [('Federico Mertens', 'Autoría'),\n",
              "   ('Graciela Pal', 'Actriz '),\n",
              "   ('Héctor Callori', 'Actor'),\n",
              "   ('Joselo Bella', 'Actor'),\n",
              "   (' Carla Bianca', 'Actriz '),\n",
              "   ('Analía García Barbari', 'Actriz '),\n",
              "   ('Lucía Stella', 'Actriz '),\n",
              "   ('Francisco González Gil', 'Actor'),\n",
              "   (' Miriam Strat', 'Actriz '),\n",
              "   ('Adrián Andrada', 'Asistencia de dirección'),\n",
              "   ('Fermín González', 'Diseño de luces'),\n",
              "   ('Silvia Picallo', 'Diseño de vestuario'),\n",
              "   ('Cinthia Chomski', 'Diseño de escenografía '),\n",
              "   ('Stella Maris Santiago ', 'Asistencia de escenografía'),\n",
              "   ('Cecilia Varela ', 'Maquillaje y/o peluquería ')],\n",
              "  'sinopsis': 'La comedia costumbrista de Federico Martens dirigida por Rubén Stella muestra una familia esforzada por copiar la vida de sus vecinos a quienes supone felices. El elenco, encabezado por Graciela Pal y &nbsp;Héctor Callori, atraviesa situaciones picarescas intentando vivir su vida como “las d’enfrente”.</p>',\n",
              "  'teatro': 'TEATRO CARLOS CARELLA',\n",
              "  'titulo': 'LAS DE ENFRENTE',\n",
              "  'trailer': 'https://www.teatrix.com/ver/las-denfrente'},\n",
              " {'anio': '2018',\n",
              "  'duracion': '71',\n",
              "  'elenco': [('Juan Paya', 'Autoría'),\n",
              "   ('Juan Paya', 'Actor'),\n",
              "   ('Maida Andrenacci', 'Actriz '),\n",
              "   ('Federico Baron', 'Actor'),\n",
              "   ('Payuca Del Pueblo', 'Actriz '),\n",
              "   ('Imanol Rodríguez', 'Actor'),\n",
              "   ('Andrés Rovetto', 'Actor'),\n",
              "   ('Graciela Stéfani', 'Actriz '),\n",
              "   ('Juan Paya', 'Diseño de escenografía '),\n",
              "   ('Augusto Latorraca', 'Diseño y realización de escenografía'),\n",
              "   ('Lucas Balestrino', 'Diseño de luces'),\n",
              "   ('Juan Paya', 'Diseño de vestuario'),\n",
              "   ('Julieta Rossi', 'Stage manager'),\n",
              "   ('Florencia Morelli', 'Asistencia de dirección'),\n",
              "   ('Florencia Morelli', 'Asistencia de producción'),\n",
              "   ('Patricia Jimenez', 'Producción Comercial'),\n",
              "   ('Agustina Granja', 'Producción Ejecutiva'),\n",
              "   ('Juan Paya', 'Diseño gráfico'),\n",
              "   ('We Prensa', 'Prensa')],\n",
              "  'sinopsis': 'Un encargado (Juan Paya), toma de rehén a un grupo de vecinos desopilantes &nbsp;en el garaje del edificio porque fueron testigos de un crimen que cometió. Mientras mueven algunos contactos para que eliminen las grabaciones de las cámaras de seguridad y piensan la mejor manera de deshacerse del cuerpo.</p>',\n",
              "  'teatro': 'Teatro Metropolitan',\n",
              "  'titulo': 'SALVAJES',\n",
              "  'trailer': 'https://www.teatrix.com/ver/salvajes'},\n",
              " {'anio': '2017',\n",
              "  'duracion': '95',\n",
              "  'elenco': [('Francesca Lorito', 'Actriz '),\n",
              "   ('Manuel Pérez Erramouspe', 'Actor'),\n",
              "   ('Gonzalo Fletcher', 'Actor'),\n",
              "   ('Jorge Contegni', 'Actor'),\n",
              "   ('Sebastián Ziliotto', 'Actor'),\n",
              "   ('Horacio Vay', 'Actor'),\n",
              "   ('Diego Sassi Alcalá', 'Actor'),\n",
              "   ('Pilar Rodríguez Rey', 'Actriz '),\n",
              "   ('Luli Zabala', 'Actriz '),\n",
              "   ('Nicole Hernández', 'Actriz '),\n",
              "   ('Manuel Di Francesco', 'Actor'),\n",
              "   ('Gustavo Viñes', 'Actor'),\n",
              "   ('Nahuel Adhami', 'Actor'),\n",
              "   ('Emiliano Giannotti', 'Actor'),\n",
              "   ('Demián Silveira', 'Actor'),\n",
              "   ('Giuli Tagliamonte', 'Actriz '),\n",
              "   ('Camila Casaubon', 'Actriz '),\n",
              "   ('Lucía Cullinan', 'Actriz '),\n",
              "   ('Facundo Ullua', 'Actor'),\n",
              "   ('Felu Politi', 'Actor'),\n",
              "   ('Tony Hurtado', 'Música en vivo'),\n",
              "   ('Tomas Silva', 'Música en vivo'),\n",
              "   ('Leo Amadeo', 'Música en vivo'),\n",
              "   ('Mariano Frumento', 'Música en vivo'),\n",
              "   ('Virginia Peroni', 'Asistente de dirección'),\n",
              "   ('Maribel Khazhal ', 'Asistente de dirección'),\n",
              "   ('Juan Manuel Gentile', 'Asistente de coreografía'),\n",
              "   ('Agustina Seku Faillace', 'Coreografía'),\n",
              "   ('Mercedes Bassi', 'Coach Vocal '),\n",
              "   ('Laura Galluppi ', 'Diseño de vestuario'),\n",
              "   ('Micaela Angellozzi', 'Diseño de vestuario'),\n",
              "   ('Alina Paz Torres Claro', 'Diseño de vestuario'),\n",
              "   ('Celii Merendino', 'Asistente de vestuario'),\n",
              "   ('Ara Orellano ', 'Asistente de vestuario'),\n",
              "   ('Sergio Costessich', 'Diseño de iluminación'),\n",
              "   ('Jorge Soldera', 'Diseño de sonido'),\n",
              "   ('Lucas Casolo', 'Realizador Audiovisual'),\n",
              "   ('Gonzalo Esteguy', 'Fotografía '),\n",
              "   ('Cecilia Galoppo', 'Diseño gráfico'),\n",
              "   ('Carolina Maria Pesce', 'Maquillaje'),\n",
              "   ('Eliana Repicky', 'Asistente de Maquillaje'),\n",
              "   ('Luciana Bruzoni', 'Asistente de Maquillaje'),\n",
              "   ('Maria Luz Palavecino', 'Asistente de Maquillaje'),\n",
              "   ('Miriam Manelli', 'Realización de pelucas'),\n",
              "   ('Ailin Rocío Ramírez', 'Asistencia de peinados'),\n",
              "   ('Nacho Lunadei', 'Magia fotográfica'),\n",
              "   ('Lolo Boy Ardit', 'Stage'),\n",
              "   ('Federico Godo Giménez', 'Stage'),\n",
              "   (' Inti Ramiro Zúñiga Cignetti ', 'Stage'),\n",
              "   ('Sergio Hernan Soria', 'Stage'),\n",
              "   ('Analía López Musa', 'Comunicación y Producción Comercial'),\n",
              "   ('Noelín', 'Producción en Arte'),\n",
              "   ('Tadeo Jones', 'Dirección de arte'),\n",
              "   ('Alejandro Loiacono', 'Producción Ejecutiva'),\n",
              "   ('Melina D&#039;Angelo', 'Asistencia de producción'),\n",
              "   ('Federico Brunetti', 'Coordinador de producción')],\n",
              "  'sinopsis': 'Que\\r',\n",
              "  'teatro': 'Centro Cultural 25 de mayo',\n",
              "  'titulo': 'EL BOTELLA',\n",
              "  'trailer': 'https://www.teatrix.com/ver/el-botella'}]"
            ]
          },
          "metadata": {
            "tags": []
          },
          "execution_count": 7
        }
      ]
    },
    {
      "cell_type": "markdown",
      "metadata": {
        "id": "tVDfEx2oSXXL"
      },
      "source": [
        "Antes de seguir importamos la librería Pandas, la cual nos ayudará a manipular los datos:"
      ]
    },
    {
      "cell_type": "code",
      "metadata": {
        "id": "lA-SgZYNSWvZ"
      },
      "source": [
        "import pandas as pd"
      ],
      "execution_count": 8,
      "outputs": []
    },
    {
      "cell_type": "markdown",
      "metadata": {
        "id": "nnDTGC-Pa5i4"
      },
      "source": [
        "Ahora sí, creamos nuestro catálogo y lo revisamos tomando una muestra al azar:"
      ]
    },
    {
      "cell_type": "code",
      "metadata": {
        "colab": {
          "base_uri": "https://localhost:8080/",
          "height": 510
        },
        "id": "Sc2YDjyM4GGS",
        "outputId": "a3efb927-bf43-4cc8-e1cd-e8fb51042a54"
      },
      "source": [
        "catalogo = pd.DataFrame(data)\r\n",
        "print(catalogo.shape)\r\n",
        "catalogo.sample(5)"
      ],
      "execution_count": 9,
      "outputs": [
        {
          "output_type": "stream",
          "text": [
            "(178, 7)\n"
          ],
          "name": "stdout"
        },
        {
          "output_type": "execute_result",
          "data": {
            "text/html": [
              "<div>\n",
              "<style scoped>\n",
              "    .dataframe tbody tr th:only-of-type {\n",
              "        vertical-align: middle;\n",
              "    }\n",
              "\n",
              "    .dataframe tbody tr th {\n",
              "        vertical-align: top;\n",
              "    }\n",
              "\n",
              "    .dataframe thead th {\n",
              "        text-align: right;\n",
              "    }\n",
              "</style>\n",
              "<table border=\"1\" class=\"dataframe\">\n",
              "  <thead>\n",
              "    <tr style=\"text-align: right;\">\n",
              "      <th></th>\n",
              "      <th>titulo</th>\n",
              "      <th>teatro</th>\n",
              "      <th>anio</th>\n",
              "      <th>sinopsis</th>\n",
              "      <th>duracion</th>\n",
              "      <th>elenco</th>\n",
              "      <th>trailer</th>\n",
              "    </tr>\n",
              "  </thead>\n",
              "  <tbody>\n",
              "    <tr>\n",
              "      <th>28</th>\n",
              "      <td>DOñA DISPARATE Y BAMBUCO</td>\n",
              "      <td>CPM Multiescena</td>\n",
              "      <td>2019</td>\n",
              "      <td>Georgina Barbarossa vuelve como Doña Disparate...</td>\n",
              "      <td>60</td>\n",
              "      <td>[(María Elena Walsh, Autoría), (Georgina Barba...</td>\n",
              "      <td>https://www.teatrix.com/ver/dona-disparate-y-b...</td>\n",
              "    </tr>\n",
              "    <tr>\n",
              "      <th>43</th>\n",
              "      <td>MUCHO RUIDO Y POCAS NUECES</td>\n",
              "      <td>Teatro La Comedia</td>\n",
              "      <td>2019</td>\n",
              "      <td>Del siglo XVII al XXI en una sola escala, la c...</td>\n",
              "      <td>137</td>\n",
              "      <td>[(William Shakespeare , Autoría), (Jorge Azurm...</td>\n",
              "      <td>https://www.teatrix.com/ver/mucho-ruido-y-poca...</td>\n",
              "    </tr>\n",
              "    <tr>\n",
              "      <th>3</th>\n",
              "      <td>EL BOTELLA</td>\n",
              "      <td>Centro Cultural 25 de mayo</td>\n",
              "      <td>2017</td>\n",
              "      <td>Que\\r</td>\n",
              "      <td>95</td>\n",
              "      <td>[(Francesca Lorito, Actriz ), (Manuel Pérez Er...</td>\n",
              "      <td>https://www.teatrix.com/ver/el-botella</td>\n",
              "    </tr>\n",
              "    <tr>\n",
              "      <th>12</th>\n",
              "      <td>EL SEñOR DEL BAñO</td>\n",
              "      <td>ND ATENEO</td>\n",
              "      <td>2016</td>\n",
              "      <td>El unipersonal de Rudy Chernicof, con libro de...</td>\n",
              "      <td>67</td>\n",
              "      <td>[(Daniel Dátola, Autoría), (Rudy Chernicof, Au...</td>\n",
              "      <td>https://www.teatrix.com/ver/el-senor-del-bano</td>\n",
              "    </tr>\n",
              "    <tr>\n",
              "      <th>46</th>\n",
              "      <td>THE PORTUGUESE KID</td>\n",
              "      <td>Broadway HD</td>\n",
              "      <td>2017</td>\n",
              "      <td>Una comedia vertiginosa que te atrapa desde la...</td>\n",
              "      <td>106</td>\n",
              "      <td>[(John Patrick Shanley, Autoría), (David Horn,...</td>\n",
              "      <td>https://www.teatrix.com/ver/portuguese-kid</td>\n",
              "    </tr>\n",
              "  </tbody>\n",
              "</table>\n",
              "</div>"
            ],
            "text/plain": [
              "                        titulo  ...                                            trailer\n",
              "28    DOñA DISPARATE Y BAMBUCO  ...  https://www.teatrix.com/ver/dona-disparate-y-b...\n",
              "43  MUCHO RUIDO Y POCAS NUECES  ...  https://www.teatrix.com/ver/mucho-ruido-y-poca...\n",
              "3                   EL BOTELLA  ...             https://www.teatrix.com/ver/el-botella\n",
              "12           EL SEñOR DEL BAñO  ...      https://www.teatrix.com/ver/el-senor-del-bano\n",
              "46          THE PORTUGUESE KID  ...         https://www.teatrix.com/ver/portuguese-kid\n",
              "\n",
              "[5 rows x 7 columns]"
            ]
          },
          "metadata": {
            "tags": []
          },
          "execution_count": 9
        }
      ]
    },
    {
      "cell_type": "markdown",
      "metadata": {
        "id": "XdxT56sZfkvQ"
      },
      "source": [
        "¿Coincide la cantidad de nombres que extrajimos al principio con la longitud del DataFrame?"
      ]
    },
    {
      "cell_type": "code",
      "metadata": {
        "id": "3XplPx7pfVAp"
      },
      "source": [
        "#Si esta celda no devuelve nada es porque las cantidades efectivamente coinciden.\r\n",
        "assert len(nombres) == len(catalogo), 'Las cantidades no coinciden'"
      ],
      "execution_count": 10,
      "outputs": []
    },
    {
      "cell_type": "markdown",
      "metadata": {
        "id": "IpP5ZJXGowXw"
      },
      "source": [
        "¿Cuáles son las obras más viejas del catálogo?"
      ]
    },
    {
      "cell_type": "code",
      "metadata": {
        "colab": {
          "base_uri": "https://localhost:8080/",
          "height": 558
        },
        "id": "uDcO85tQo1e_",
        "outputId": "8e1c20ce-cb17-4a5e-9d36-b5391bc93460"
      },
      "source": [
        "catalogo[catalogo['anio'] == catalogo['anio'].min()]"
      ],
      "execution_count": 11,
      "outputs": [
        {
          "output_type": "execute_result",
          "data": {
            "text/html": [
              "<div>\n",
              "<style scoped>\n",
              "    .dataframe tbody tr th:only-of-type {\n",
              "        vertical-align: middle;\n",
              "    }\n",
              "\n",
              "    .dataframe tbody tr th {\n",
              "        vertical-align: top;\n",
              "    }\n",
              "\n",
              "    .dataframe thead th {\n",
              "        text-align: right;\n",
              "    }\n",
              "</style>\n",
              "<table border=\"1\" class=\"dataframe\">\n",
              "  <thead>\n",
              "    <tr style=\"text-align: right;\">\n",
              "      <th></th>\n",
              "      <th>titulo</th>\n",
              "      <th>teatro</th>\n",
              "      <th>anio</th>\n",
              "      <th>sinopsis</th>\n",
              "      <th>duracion</th>\n",
              "      <th>elenco</th>\n",
              "      <th>trailer</th>\n",
              "    </tr>\n",
              "  </thead>\n",
              "  <tbody>\n",
              "    <tr>\n",
              "      <th>14</th>\n",
              "      <td>ALTA COMEDIA: LA SANGRE DE LOS ORTIZ</td>\n",
              "      <td>Canal 9</td>\n",
              "      <td>1992</td>\n",
              "      <td>Un episodio de Alta comedia, el histórico cicl...</td>\n",
              "      <td>61</td>\n",
              "      <td>[(Patricia Ulanosky, Autoría), (Alberto Rinald...</td>\n",
              "      <td>https://www.teatrix.com/ver/alta-comedia-la-sa...</td>\n",
              "    </tr>\n",
              "    <tr>\n",
              "      <th>21</th>\n",
              "      <td>BRUJAS</td>\n",
              "      <td>Teatro Ateneo</td>\n",
              "      <td>1992</td>\n",
              "      <td>Moria Casán, Graciela Dufau, Nora Cárpena, The...</td>\n",
              "      <td>102</td>\n",
              "      <td>[(Santiago Moncada, Autoría), (Luis Agustoni, ...</td>\n",
              "      <td>https://www.teatrix.com/ver/brujas</td>\n",
              "    </tr>\n",
              "    <tr>\n",
              "      <th>73</th>\n",
              "      <td>ALTA COMEDIA: PERSONA NO GRATA</td>\n",
              "      <td>Canal 9</td>\n",
              "      <td>1992</td>\n",
              "      <td>Un episodio de Alta comedia, el histórico cicl...</td>\n",
              "      <td>54</td>\n",
              "      <td>[(Henrik Ibsen, Libro original), (Ruben Szuchm...</td>\n",
              "      <td>https://www.teatrix.com/ver/alta-comedia-perso...</td>\n",
              "    </tr>\n",
              "    <tr>\n",
              "      <th>77</th>\n",
              "      <td>ALTA COMEDIA: HOY DIGO BASTA</td>\n",
              "      <td>Canal 9</td>\n",
              "      <td>1992</td>\n",
              "      <td>Un episodio de Alta Comedia, el histórico cicl...</td>\n",
              "      <td>74</td>\n",
              "      <td>[(Juan Carlos Cernadas Lamadrid, Autoría), (Al...</td>\n",
              "      <td>https://www.teatrix.com/ver/alta-comedia-hoy-d...</td>\n",
              "    </tr>\n",
              "    <tr>\n",
              "      <th>150</th>\n",
              "      <td>ALTA COMEDIA: SEIS PERSONAJES EN BUSCA DE UN A...</td>\n",
              "      <td>Canal 9</td>\n",
              "      <td>1992</td>\n",
              "      <td>Un episodio de Alta comedia, el histórico cicl...</td>\n",
              "      <td>64</td>\n",
              "      <td>[(Luigi Pirandello, Libro original), (Elena An...</td>\n",
              "      <td>https://www.teatrix.com/ver/alta-comedia-seis-...</td>\n",
              "    </tr>\n",
              "    <tr>\n",
              "      <th>168</th>\n",
              "      <td>ALTA COMEDIA: SIN SALIDA</td>\n",
              "      <td>Canal 9</td>\n",
              "      <td>1992</td>\n",
              "      <td>Un episodio de Alta comedia, el histórico cicl...</td>\n",
              "      <td>70</td>\n",
              "      <td>[(Luigi Pirandello, Libro original), (Ricardo ...</td>\n",
              "      <td>https://www.teatrix.com/ver/alta-comedia-sin-s...</td>\n",
              "    </tr>\n",
              "  </tbody>\n",
              "</table>\n",
              "</div>"
            ],
            "text/plain": [
              "                                                titulo  ...                                            trailer\n",
              "14                ALTA COMEDIA: LA SANGRE DE LOS ORTIZ  ...  https://www.teatrix.com/ver/alta-comedia-la-sa...\n",
              "21                                              BRUJAS  ...                 https://www.teatrix.com/ver/brujas\n",
              "73                      ALTA COMEDIA: PERSONA NO GRATA  ...  https://www.teatrix.com/ver/alta-comedia-perso...\n",
              "77                        ALTA COMEDIA: HOY DIGO BASTA  ...  https://www.teatrix.com/ver/alta-comedia-hoy-d...\n",
              "150  ALTA COMEDIA: SEIS PERSONAJES EN BUSCA DE UN A...  ...  https://www.teatrix.com/ver/alta-comedia-seis-...\n",
              "168                           ALTA COMEDIA: SIN SALIDA  ...  https://www.teatrix.com/ver/alta-comedia-sin-s...\n",
              "\n",
              "[6 rows x 7 columns]"
            ]
          },
          "metadata": {
            "tags": []
          },
          "execution_count": 11
        }
      ]
    },
    {
      "cell_type": "markdown",
      "metadata": {
        "id": "E6oKUE9ogFtR"
      },
      "source": [
        "¿De qué años son la mayoría de las obras?"
      ]
    },
    {
      "cell_type": "code",
      "metadata": {
        "colab": {
          "base_uri": "https://localhost:8080/",
          "height": 308
        },
        "id": "9QNwFmUyf1mh",
        "outputId": "4efee604-cada-4f94-8f50-8e85ba5e88d6"
      },
      "source": [
        "catalogo['anio'].hist(figsize=(15,5));"
      ],
      "execution_count": 12,
      "outputs": [
        {
          "output_type": "display_data",
          "data": {
            "image/png": "[encoded data removed]",
            "text/plain": [
              "<Figure size 1080x360 with 1 Axes>"
            ]
          },
          "metadata": {
            "tags": [],
            "needs_background": "light"
          }
        }
      ]
    },
    {
      "cell_type": "markdown",
      "metadata": {
        "id": "NZM83zk3qC4o"
      },
      "source": [
        "Ahora crearemos otro DataFrame para analizar la duración de las obras, eliminando los valores nulos, convirtiendo los minutos en datos operables y descartando aquellos que resulten anómalos:"
      ]
    },
    {
      "cell_type": "code",
      "metadata": {
        "id": "6nBz9M0Ap6vf",
        "colab": {
          "base_uri": "https://localhost:8080/"
        },
        "outputId": "8fee3b1c-d8c4-4723-b6d9-bd149cc08826"
      },
      "source": [
        "df_dur = catalogo.dropna(subset=['duracion'])\r\n",
        "df_dur.shape"
      ],
      "execution_count": 13,
      "outputs": [
        {
          "output_type": "execute_result",
          "data": {
            "text/plain": [
              "(175, 7)"
            ]
          },
          "metadata": {
            "tags": []
          },
          "execution_count": 13
        }
      ]
    },
    {
      "cell_type": "code",
      "metadata": {
        "colab": {
          "base_uri": "https://localhost:8080/"
        },
        "id": "dBPlghIwtq2r",
        "outputId": "2768c468-4def-43db-d641-31b869a4f4ad"
      },
      "source": [
        "df_dur['duracion'] = df_dur['duracion'].astype(int)"
      ],
      "execution_count": 14,
      "outputs": [
        {
          "output_type": "stream",
          "text": [
            "/usr/local/lib/python3.6/dist-packages/ipykernel_launcher.py:1: SettingWithCopyWarning: \n",
            "A value is trying to be set on a copy of a slice from a DataFrame.\n",
            "Try using .loc[row_indexer,col_indexer] = value instead\n",
            "\n",
            "See the caveats in the documentation: https://pandas.pydata.org/pandas-docs/stable/user_guide/indexing.html#returning-a-view-versus-a-copy\n",
            "  \"\"\"Entry point for launching an IPython kernel.\n"
          ],
          "name": "stderr"
        }
      ]
    },
    {
      "cell_type": "code",
      "metadata": {
        "id": "ba0KnzxjuiVn"
      },
      "source": [
        "#Descartamos las obras que duren menos de 20 minutos, cifra arbitraria que tomamos\n",
        "#como indicadora de datos anómalos:\n",
        "df_dur = df_dur[df_dur['duracion'] > 20] "
      ],
      "execution_count": 15,
      "outputs": []
    },
    {
      "cell_type": "markdown",
      "metadata": {
        "id": "5voW5AhqwRiZ"
      },
      "source": [
        "¿Cuál es la obra más corta?"
      ]
    },
    {
      "cell_type": "code",
      "metadata": {
        "colab": {
          "base_uri": "https://localhost:8080/",
          "height": 114
        },
        "id": "bBhEF4QnwLrp",
        "outputId": "429de3fe-eb02-4650-a49a-1293ab969669"
      },
      "source": [
        "df_dur[df_dur['duracion'] == df_dur['duracion'].min()]"
      ],
      "execution_count": 16,
      "outputs": [
        {
          "output_type": "execute_result",
          "data": {
            "text/html": [
              "<div>\n",
              "<style scoped>\n",
              "    .dataframe tbody tr th:only-of-type {\n",
              "        vertical-align: middle;\n",
              "    }\n",
              "\n",
              "    .dataframe tbody tr th {\n",
              "        vertical-align: top;\n",
              "    }\n",
              "\n",
              "    .dataframe thead th {\n",
              "        text-align: right;\n",
              "    }\n",
              "</style>\n",
              "<table border=\"1\" class=\"dataframe\">\n",
              "  <thead>\n",
              "    <tr style=\"text-align: right;\">\n",
              "      <th></th>\n",
              "      <th>titulo</th>\n",
              "      <th>teatro</th>\n",
              "      <th>anio</th>\n",
              "      <th>sinopsis</th>\n",
              "      <th>duracion</th>\n",
              "      <th>elenco</th>\n",
              "      <th>trailer</th>\n",
              "    </tr>\n",
              "  </thead>\n",
              "  <tbody>\n",
              "    <tr>\n",
              "      <th>34</th>\n",
              "      <td>ISABEL DE GUEVARA</td>\n",
              "      <td>Centro cultural 25 de mayo</td>\n",
              "      <td>2018</td>\n",
              "      <td>Una  obra  de  la  prestigiosa    Alicia  Muño...</td>\n",
              "      <td>41</td>\n",
              "      <td>[(Alicia Muñoz, Autoría), (María Esther Fernán...</td>\n",
              "      <td>https://www.teatrix.com/ver/isabel-de-guevara</td>\n",
              "    </tr>\n",
              "  </tbody>\n",
              "</table>\n",
              "</div>"
            ],
            "text/plain": [
              "               titulo  ...                                        trailer\n",
              "34  ISABEL DE GUEVARA  ...  https://www.teatrix.com/ver/isabel-de-guevara\n",
              "\n",
              "[1 rows x 7 columns]"
            ]
          },
          "metadata": {
            "tags": []
          },
          "execution_count": 16
        }
      ]
    },
    {
      "cell_type": "markdown",
      "metadata": {
        "id": "tq4EW3Wywliv"
      },
      "source": [
        "¿Y la más larga?"
      ]
    },
    {
      "cell_type": "code",
      "metadata": {
        "colab": {
          "base_uri": "https://localhost:8080/",
          "height": 148
        },
        "id": "gFXabItpwrt5",
        "outputId": "a2bd2502-383d-417c-c229-e4460374de44"
      },
      "source": [
        "df_dur[df_dur['duracion'] == df_dur['duracion'].max()]"
      ],
      "execution_count": 17,
      "outputs": [
        {
          "output_type": "execute_result",
          "data": {
            "text/html": [
              "<div>\n",
              "<style scoped>\n",
              "    .dataframe tbody tr th:only-of-type {\n",
              "        vertical-align: middle;\n",
              "    }\n",
              "\n",
              "    .dataframe tbody tr th {\n",
              "        vertical-align: top;\n",
              "    }\n",
              "\n",
              "    .dataframe thead th {\n",
              "        text-align: right;\n",
              "    }\n",
              "</style>\n",
              "<table border=\"1\" class=\"dataframe\">\n",
              "  <thead>\n",
              "    <tr style=\"text-align: right;\">\n",
              "      <th></th>\n",
              "      <th>titulo</th>\n",
              "      <th>teatro</th>\n",
              "      <th>anio</th>\n",
              "      <th>sinopsis</th>\n",
              "      <th>duracion</th>\n",
              "      <th>elenco</th>\n",
              "      <th>trailer</th>\n",
              "    </tr>\n",
              "  </thead>\n",
              "  <tbody>\n",
              "    <tr>\n",
              "      <th>174</th>\n",
              "      <td>ESQUIZOPEñA, INTIMIDAD RIOPLATENSE</td>\n",
              "      <td>Paseo La Plaza</td>\n",
              "      <td>2015</td>\n",
              "      <td>El inolvidable Fernando Peña, trasgresor y cre...</td>\n",
              "      <td>172</td>\n",
              "      <td>[(Fernando Peña, Autoría), (Fernando Peña, Act...</td>\n",
              "      <td>https://www.teatrix.com/ver/esquizopena-intimi...</td>\n",
              "    </tr>\n",
              "  </tbody>\n",
              "</table>\n",
              "</div>"
            ],
            "text/plain": [
              "                                 titulo  ...                                            trailer\n",
              "174  ESQUIZOPEñA, INTIMIDAD RIOPLATENSE  ...  https://www.teatrix.com/ver/esquizopena-intimi...\n",
              "\n",
              "[1 rows x 7 columns]"
            ]
          },
          "metadata": {
            "tags": []
          },
          "execution_count": 17
        }
      ]
    },
    {
      "cell_type": "markdown",
      "metadata": {
        "id": "lmyKIMySw0to"
      },
      "source": [
        "¿Cuál es el promedio de duración de las obras?"
      ]
    },
    {
      "cell_type": "code",
      "metadata": {
        "colab": {
          "base_uri": "https://localhost:8080/"
        },
        "id": "bzsRsiCjw4M3",
        "outputId": "3acfddb7-0772-4de7-9c51-732b704a9bd1"
      },
      "source": [
        "prom_dur = df_dur['duracion'].mean()\n",
        "print(f'El promedio de duración de las obras es de {round(prom_dur)} minutos.')"
      ],
      "execution_count": 18,
      "outputs": [
        {
          "output_type": "stream",
          "text": [
            "El promedio de duración de las obras es de 88 minutos.\n"
          ],
          "name": "stdout"
        }
      ]
    },
    {
      "cell_type": "markdown",
      "metadata": {
        "id": "Oy9imrczxTtI"
      },
      "source": [
        "¿Cómo se distribuyen las obras según su duración?"
      ]
    },
    {
      "cell_type": "code",
      "metadata": {
        "colab": {
          "base_uri": "https://localhost:8080/",
          "height": 308
        },
        "id": "jjuc7_0JxYRQ",
        "outputId": "15c60efa-7969-4d68-bceb-5da2c1a31d04"
      },
      "source": [
        "df_dur['duracion'].hist(figsize=(15,5));"
      ],
      "execution_count": 19,
      "outputs": [
        {
          "output_type": "display_data",
          "data": {
            "image/png": "[encoded data removed]",
            "text/plain": [
              "<Figure size 1080x360 with 1 Axes>"
            ]
          },
          "metadata": {
            "tags": [],
            "needs_background": "light"
          }
        }
      ]
    },
    {
      "cell_type": "markdown",
      "metadata": {
        "id": "tDEba_gXxsXa"
      },
      "source": [
        "Para finalizar, creamos un archivo de Excel con nuestro catálogo:"
      ]
    },
    {
      "cell_type": "code",
      "metadata": {
        "id": "wsI0lH5dxyin"
      },
      "source": [
        "catalogo.to_excel('catalogo_teatrix.xlsx')"
      ],
      "execution_count": 20,
      "outputs": []
    }
  ]
}