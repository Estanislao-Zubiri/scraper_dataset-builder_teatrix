{
  "nbformat": 4,
  "nbformat_minor": 0,
  "metadata": {
    "colab": {
      "name": "scraper_dataset-builder_teatrix.ipynb",
      "provenance": []
    },
    "kernelspec": {
      "name": "python3",
      "display_name": "Python 3"
    }
  },
  "cells": [
    {
      "cell_type": "markdown",
      "metadata": {
        "id": "bxlwGbbCK9cr"
      },
      "source": [
        "# En este cuaderno crearemos un catálogo de las obras disponibles en la plataforma [Teatrix](https://www.teatrix.com/), analizaremos algunos de sus datos y finalmente extraeremos el listado en un archivo de Excel."
      ]
    },
    {
      "cell_type": "markdown",
      "metadata": {
        "id": "mFDFFlnQKw_j"
      },
      "source": [
        "En primer lugar, importamos las librerías necesarias para obtener el código de la página y filtrarlo mediante expresiones regulares:"
      ]
    },
    {
      "cell_type": "code",
      "metadata": {
        "id": "AwLZoibAJspV"
      },
      "source": [
        "import requests\n",
        "import re"
      ],
      "execution_count": 22,
      "outputs": []
    },
    {
      "cell_type": "markdown",
      "metadata": {
        "id": "F5gpgZSDLjPR"
      },
      "source": [
        "Hacemos el pedido a la web. Si el valor de su estatus es igual a 200, quiere decir que hemos tenido éxito:"
      ]
    },
    {
      "cell_type": "code",
      "metadata": {
        "colab": {
          "base_uri": "https://localhost:8080/"
        },
        "id": "lYRv7YOXLItp",
        "outputId": "25427ec6-77c4-449b-a719-cbdaeb9f5c45"
      },
      "source": [
        "url = 'https://www.teatrix.com/'\n",
        "request = requests.get(url)\n",
        "request.status_code"
      ],
      "execution_count": 23,
      "outputs": [
        {
          "output_type": "execute_result",
          "data": {
            "text/plain": [
              "200"
            ]
          },
          "metadata": {
            "tags": []
          },
          "execution_count": 23
        }
      ]
    },
    {
      "cell_type": "markdown",
      "metadata": {
        "id": "FaHrTMV4L6Sh"
      },
      "source": [
        "A continuación obtenemos los nombres de las páginas que contienen cada una de las obras, ubicados en el texto luego de la expresión \"video/\"."
      ]
    },
    {
      "cell_type": "code",
      "metadata": {
        "colab": {
          "base_uri": "https://localhost:8080/"
        },
        "id": "y0D-7JOaM4SK",
        "outputId": "732d316f-0b3b-4088-ab49-5753c0f3f02b"
      },
      "source": [
        "pattern = 'video/(.+)\">'\n",
        "nombres = re.findall(pattern,request.text)\n",
        "print(f'La página principal de Teatrix nos devuelve {len(nombres)} nombres de obras')"
      ],
      "execution_count": 24,
      "outputs": [
        {
          "output_type": "stream",
          "text": [
            "La página principal de Teatrix nos devuelve 446 nombres de obras\n"
          ],
          "name": "stdout"
        }
      ]
    },
    {
      "cell_type": "markdown",
      "metadata": {
        "id": "jlm6ddJZl-yQ"
      },
      "source": [
        "Cada obra puede aparecer más de una vez en la página principal de Teatrix, por lo cual necesitamos eliminar los nombres que sobran. Para esto, simplemente los convertimos en llaves de un diccionario. Esto descartará los repetidos y nos permitirá pisar la lista existente con la que realmente queremos:"
      ]
    },
    {
      "cell_type": "code",
      "metadata": {
        "colab": {
          "base_uri": "https://localhost:8080/"
        },
        "id": "Tc0RG0Y_lyv5",
        "outputId": "8844bbc3-ae17-446c-a9ab-5caf3447838c"
      },
      "source": [
        "nombres = list(dict.fromkeys(nombres))\n",
        "print(f'Actualmente, Teatrix cuenta con {len(nombres)} obras en su catálogo.')"
      ],
      "execution_count": 25,
      "outputs": [
        {
          "output_type": "stream",
          "text": [
            "Actualmente, Teatrix cuenta con 178 obras en su catálogo.\n"
          ],
          "name": "stdout"
        }
      ]
    },
    {
      "cell_type": "markdown",
      "metadata": {
        "id": "h2cQWt1rPWkm"
      },
      "source": [
        "A continuación creamos una lista que contenga nombre, teatro, año, duración y el link al trailer de cada una de las obras. Es probable que la siguiente celda tarde un par de minutos en ejecutarse, ya que debe recorrer página por página y filtrar los datos que queremos en cada una de ellas:"
      ]
    },
    {
      "cell_type": "code",
      "metadata": {
        "id": "jG1Ec06KNATx"
      },
      "source": [
        "data = [] #Primero creamos la lista que iremos llenando con los datos de cada obra.\n",
        "for i in nombres: #Creamos un bucle que itere el proceso en la página de cada obra.\n",
        "  obra_data = [] #Creamos una lista vacía cada vez que se inicia un ciclo.\n",
        "  while obra_data == []: #A veces al extraer los datos de la página nos puede pasar\n",
        "  #que obtengamos un objeto vacío, dependiendo de cada carga. Por eso le pedimos\n",
        "  #a Python que revise la lista que acabamos de crear y repita el ciclo mientras\n",
        "  #el resultado esté vacío.\n",
        "    obra = requests.get(f'https://www.teatrix.com/video/{i}') #Hacemos el request\n",
        "    #correspondiente a esta obra.\n",
        "    pattern_titulo = 'title\">(.+)</h2' #Filtramos el título...\n",
        "    obra_data += [i.title() for i in re.findall(pattern_titulo,obra.text)]\n",
        "    pattern_teatro = 'origin\">(.+)</span>' #...el teatro...\n",
        "    obra_data += re.findall(pattern_teatro,obra.text)\n",
        "    pattern_anio = 'date\">(\\d+)' #...el año...\n",
        "    obra_data += re.findall(pattern_anio,obra.text)\n",
        "    pattern_sinopsis = 'md\">\\s*(.+)' #...la sinopsis...\n",
        "    obra_data += re.findall(pattern_sinopsis,obra.text)\n",
        "    pattern_duracion = 'duration\">(\\d+)  min' #...y la duración.\n",
        "    obra_data += re.findall(pattern_duracion,obra.text) \n",
        "  if len(obra_data) == 4: #Como hay obras cuya duración no figura en la página,\n",
        "  #revisamos la cantidad de elementos que se extrajeron hasta el momento. Si hay\n",
        "  #solo 4 quiere decir que no se halló el dato en cuestión. En ese caso agregamos\n",
        "  #un valor nulo para que todas las listas tengan la misma longitud, condición\n",
        "  #que será necesaria cuando queramos crear nuestra tabla.\n",
        "    obra_data.append(None)\n",
        "  obra_data += [f'https://www.teatrix.com/ver/{i}'] #Finalmente, sumamos el link\n",
        "  #al trailer y...\n",
        "  data.append(obra_data) #... finalizamos el ciclo sumando la lista de esta obra\n",
        "  #a la general."
      ],
      "execution_count": 26,
      "outputs": []
    },
    {
      "cell_type": "markdown",
      "metadata": {
        "id": "aDeiALaHagvg"
      },
      "source": [
        "Vemos los primeros cinco elementos para comprobar que el proceso haya sido exitoso:"
      ]
    },
    {
      "cell_type": "code",
      "metadata": {
        "colab": {
          "base_uri": "https://localhost:8080/"
        },
        "id": "GEVwjLajaBDC",
        "outputId": "480e1085-e002-48d0-bf98-4e16eb30186f"
      },
      "source": [
        "data[:5]"
      ],
      "execution_count": 27,
      "outputs": [
        {
          "output_type": "execute_result",
          "data": {
            "text/plain": [
              "[['Mucho',\n",
              "  'Paseo La Plaza',\n",
              "  '2020',\n",
              "  'MUCHO estuvo tres años en cartel en el Paseo La Plaza, es el show más reciente del grupo Más Canchero protagonizado y escrito por Diego Scott, Fernando Sanjiao, Malena Guinzburg y Pablo Fábregas, con la dirección de Diego Reinhold.\\r',\n",
              "  '1',\n",
              "  'https://www.teatrix.com/ver/Mucho'],\n",
              " ['Homenaje A Hugo Arana: Todas Las Rayuelas',\n",
              "  'Teatrix',\n",
              "  '2017',\n",
              "  'No podíamos cerrar este año sin realizar un merecido homenaje a Hugo Arana. Y se nos ocurrió que la mejor manera de homenajear a un tipazo como el queridísimo Huguito es disfrutando de su arte en un evento solidario.&nbsp;</p>',\n",
              "  None,\n",
              "  'https://www.teatrix.com/ver/homenaje-a-hugo-arana-todas-las-rayuelas'],\n",
              " ['La Hora De La Calabaza',\n",
              "  'Teatro Payró',\n",
              "  '2017',\n",
              "  'La hora de la calabaza es el  instante exacto en el que se termina el hechizo de la pasión, y cada uno es lo que es frente al otro; el instante en el que la magia desaparece para convertirse en cruel realidad, en el que todas las respuestas se vuelven preguntas: ¿Se puede amar a dos personas al mismo tiempo? ¿Qué es la pasión? ¿Se puede vivir eternamente apasionado? ¿Hay cuerpo que aguante?</p>',\n",
              "  '49',\n",
              "  'https://www.teatrix.com/ver/la-hora-de-la-calabaza'],\n",
              " ['Como Hace 3000 Años',\n",
              "  'Madrid',\n",
              "  '2020',\n",
              "  'La lucha, el amor por la libertad y la identidad se cruzan en Como hace 3000 años, el espectáculo en el que a sus 91 años el consagrado actor Héctor Alterio habla de sí mismo y su exilio en España tras la última dictadura militar a través de las historias del poeta zamorano León Felipe y el sanluisino Antonio Esteban Agüero.\\r',\n",
              "  '57',\n",
              "  'https://www.teatrix.com/ver/como-hace-3000-anos'],\n",
              " ['Acaloradas',\n",
              "  'Teatro Regina TSU',\n",
              "  '2018',\n",
              "  'En Acaloradas, Patricia Echegoyen, María Fernanda Callejón, Emilia Mazer y Gabriela Sarí explotan sobre el escenario sus bombas de estruendo para que todas las mujeres y (¡también los hombres!) se identifiquen con sus ideas de la vida. Por supuesto, atravesadas por los inevitables calores de la menopausia y el pudor de poner sobre la mesa sin tapujos y con mucho humor todos los grandes temas. \\r',\n",
              "  '90',\n",
              "  'https://www.teatrix.com/ver/acaloradas']]"
            ]
          },
          "metadata": {
            "tags": []
          },
          "execution_count": 27
        }
      ]
    },
    {
      "cell_type": "markdown",
      "metadata": {
        "id": "tVDfEx2oSXXL"
      },
      "source": [
        "Ahora importamos la librería Pandas que nos ayudará a crear nuestro Dataset:"
      ]
    },
    {
      "cell_type": "code",
      "metadata": {
        "id": "lA-SgZYNSWvZ"
      },
      "source": [
        "import pandas as pd"
      ],
      "execution_count": 28,
      "outputs": []
    },
    {
      "cell_type": "markdown",
      "metadata": {
        "id": "6VIXZSJ-T2H4"
      },
      "source": [
        "Hacemos una lista con los nombres que utilizará Pandas para crear las columnas:"
      ]
    },
    {
      "cell_type": "code",
      "metadata": {
        "id": "0vZToPR-ThsB"
      },
      "source": [
        "columnas = ['Obra', 'Teatro', 'Año', 'Sinopsis', 'Duración_minutos', 'Trailer']"
      ],
      "execution_count": 29,
      "outputs": []
    },
    {
      "cell_type": "markdown",
      "metadata": {
        "id": "nnDTGC-Pa5i4"
      },
      "source": [
        "Ahora sí, creamos nuestro catálogo y lo revisamos tomando una muestra al azar:"
      ]
    },
    {
      "cell_type": "code",
      "metadata": {
        "id": "HTJ7WYEATZMR"
      },
      "source": [
        "catalogo = pd.DataFrame(data, columns = columnas)"
      ],
      "execution_count": 30,
      "outputs": []
    },
    {
      "cell_type": "code",
      "metadata": {
        "colab": {
          "base_uri": "https://localhost:8080/",
          "height": 340
        },
        "id": "FYaC6qQJasKA",
        "outputId": "fc6ed6d7-be86-4f17-d284-25dedaab5623"
      },
      "source": [
        "catalogo.sample(5)"
      ],
      "execution_count": 31,
      "outputs": [
        {
          "output_type": "execute_result",
          "data": {
            "text/html": [
              "<div>\n",
              "<style scoped>\n",
              "    .dataframe tbody tr th:only-of-type {\n",
              "        vertical-align: middle;\n",
              "    }\n",
              "\n",
              "    .dataframe tbody tr th {\n",
              "        vertical-align: top;\n",
              "    }\n",
              "\n",
              "    .dataframe thead th {\n",
              "        text-align: right;\n",
              "    }\n",
              "</style>\n",
              "<table border=\"1\" class=\"dataframe\">\n",
              "  <thead>\n",
              "    <tr style=\"text-align: right;\">\n",
              "      <th></th>\n",
              "      <th>Obra</th>\n",
              "      <th>Teatro</th>\n",
              "      <th>Año</th>\n",
              "      <th>Sinopsis</th>\n",
              "      <th>Duración_minutos</th>\n",
              "      <th>Trailer</th>\n",
              "    </tr>\n",
              "  </thead>\n",
              "  <tbody>\n",
              "    <tr>\n",
              "      <th>128</th>\n",
              "      <td>El Botella</td>\n",
              "      <td>Centro Cultural 25 de mayo</td>\n",
              "      <td>2017</td>\n",
              "      <td>Que\\r</td>\n",
              "      <td>95</td>\n",
              "      <td>https://www.teatrix.com/ver/el-botella</td>\n",
              "    </tr>\n",
              "    <tr>\n",
              "      <th>109</th>\n",
              "      <td>Los Amados</td>\n",
              "      <td>SALA SIRANUSH</td>\n",
              "      <td>2015</td>\n",
              "      <td>La música de Agustín Lara enamora,\\r divierte ...</td>\n",
              "      <td>70</td>\n",
              "      <td>https://www.teatrix.com/ver/los-amados</td>\n",
              "    </tr>\n",
              "    <tr>\n",
              "      <th>53</th>\n",
              "      <td>Jettatore!</td>\n",
              "      <td>Cultural San Martín</td>\n",
              "      <td>2018</td>\n",
              "      <td>Esta comedia de puertas, contiene\\r</td>\n",
              "      <td>81</td>\n",
              "      <td>https://www.teatrix.com/ver/jettatore</td>\n",
              "    </tr>\n",
              "    <tr>\n",
              "      <th>175</th>\n",
              "      <td>Los Dias De Julián Bisbal</td>\n",
              "      <td>Canal 9</td>\n",
              "      <td>1996</td>\n",
              "      <td>Un hombre de 40 años se enfrenta a una rutina ...</td>\n",
              "      <td>102</td>\n",
              "      <td>https://www.teatrix.com/ver/los-dias-de-julian...</td>\n",
              "    </tr>\n",
              "    <tr>\n",
              "      <th>16</th>\n",
              "      <td>Stéfano</td>\n",
              "      <td>Teatro Andamio</td>\n",
              "      <td>2019</td>\n",
              "      <td>Armando Discépolo es nuestro Shakespeare y Sté...</td>\n",
              "      <td>89</td>\n",
              "      <td>https://www.teatrix.com/ver/stefano</td>\n",
              "    </tr>\n",
              "  </tbody>\n",
              "</table>\n",
              "</div>"
            ],
            "text/plain": [
              "                          Obra  ...                                            Trailer\n",
              "128                 El Botella  ...             https://www.teatrix.com/ver/el-botella\n",
              "109                 Los Amados  ...             https://www.teatrix.com/ver/los-amados\n",
              "53                  Jettatore!  ...              https://www.teatrix.com/ver/jettatore\n",
              "175  Los Dias De Julián Bisbal  ...  https://www.teatrix.com/ver/los-dias-de-julian...\n",
              "16                     Stéfano  ...                https://www.teatrix.com/ver/stefano\n",
              "\n",
              "[5 rows x 6 columns]"
            ]
          },
          "metadata": {
            "tags": []
          },
          "execution_count": 31
        }
      ]
    },
    {
      "cell_type": "markdown",
      "metadata": {
        "id": "XdxT56sZfkvQ"
      },
      "source": [
        "¿Coincide la cantidad de nombres que extrajimos al principio con la longitud del DataFrame?"
      ]
    },
    {
      "cell_type": "code",
      "metadata": {
        "colab": {
          "base_uri": "https://localhost:8080/"
        },
        "id": "3XplPx7pfVAp",
        "outputId": "f12fb265-5006-4fcd-e3f4-d3ccd94f4c81"
      },
      "source": [
        "len(nombres) == len(catalogo)"
      ],
      "execution_count": 32,
      "outputs": [
        {
          "output_type": "execute_result",
          "data": {
            "text/plain": [
              "True"
            ]
          },
          "metadata": {
            "tags": []
          },
          "execution_count": 32
        }
      ]
    },
    {
      "cell_type": "markdown",
      "metadata": {
        "id": "IpP5ZJXGowXw"
      },
      "source": [
        "¿Cuáles son las obras más viejas del catálogo?"
      ]
    },
    {
      "cell_type": "code",
      "metadata": {
        "colab": {
          "base_uri": "https://localhost:8080/",
          "height": 439
        },
        "id": "uDcO85tQo1e_",
        "outputId": "6ef6778b-8bea-4be7-e0be-51efcbadfbf9"
      },
      "source": [
        "catalogo[catalogo['Año'] == catalogo['Año'].min()]"
      ],
      "execution_count": 33,
      "outputs": [
        {
          "output_type": "execute_result",
          "data": {
            "text/html": [
              "<div>\n",
              "<style scoped>\n",
              "    .dataframe tbody tr th:only-of-type {\n",
              "        vertical-align: middle;\n",
              "    }\n",
              "\n",
              "    .dataframe tbody tr th {\n",
              "        vertical-align: top;\n",
              "    }\n",
              "\n",
              "    .dataframe thead th {\n",
              "        text-align: right;\n",
              "    }\n",
              "</style>\n",
              "<table border=\"1\" class=\"dataframe\">\n",
              "  <thead>\n",
              "    <tr style=\"text-align: right;\">\n",
              "      <th></th>\n",
              "      <th>Obra</th>\n",
              "      <th>Teatro</th>\n",
              "      <th>Año</th>\n",
              "      <th>Sinopsis</th>\n",
              "      <th>Duración_minutos</th>\n",
              "      <th>Trailer</th>\n",
              "    </tr>\n",
              "  </thead>\n",
              "  <tbody>\n",
              "    <tr>\n",
              "      <th>5</th>\n",
              "      <td>Brujas</td>\n",
              "      <td>Teatro Ateneo</td>\n",
              "      <td>1992</td>\n",
              "      <td>Moria Casán, Graciela Dufau, Nora Cárpena, The...</td>\n",
              "      <td>102</td>\n",
              "      <td>https://www.teatrix.com/ver/brujas</td>\n",
              "    </tr>\n",
              "    <tr>\n",
              "      <th>170</th>\n",
              "      <td>Alta Comedia: Hoy Digo Basta</td>\n",
              "      <td>Canal 9</td>\n",
              "      <td>1992</td>\n",
              "      <td>Un episodio de Alta Comedia, el histórico cicl...</td>\n",
              "      <td>74</td>\n",
              "      <td>https://www.teatrix.com/ver/alta-comedia-hoy-d...</td>\n",
              "    </tr>\n",
              "    <tr>\n",
              "      <th>171</th>\n",
              "      <td>Alta Comedia: Persona No Grata</td>\n",
              "      <td>Canal 9</td>\n",
              "      <td>1992</td>\n",
              "      <td>Un episodio de Alta comedia, el histórico cicl...</td>\n",
              "      <td>54</td>\n",
              "      <td>https://www.teatrix.com/ver/alta-comedia-perso...</td>\n",
              "    </tr>\n",
              "    <tr>\n",
              "      <th>172</th>\n",
              "      <td>Alta Comedia: Sin Salida</td>\n",
              "      <td>Canal 9</td>\n",
              "      <td>1992</td>\n",
              "      <td>Un episodio de Alta comedia, el histórico cicl...</td>\n",
              "      <td>70</td>\n",
              "      <td>https://www.teatrix.com/ver/alta-comedia-sin-s...</td>\n",
              "    </tr>\n",
              "    <tr>\n",
              "      <th>173</th>\n",
              "      <td>Alta Comedia: La Sangre De Los Ortiz</td>\n",
              "      <td>Canal 9</td>\n",
              "      <td>1992</td>\n",
              "      <td>Un episodio de Alta comedia, el histórico cicl...</td>\n",
              "      <td>61</td>\n",
              "      <td>https://www.teatrix.com/ver/alta-comedia-la-sa...</td>\n",
              "    </tr>\n",
              "    <tr>\n",
              "      <th>174</th>\n",
              "      <td>Alta Comedia: Seis Personajes En Busca De Un A...</td>\n",
              "      <td>Canal 9</td>\n",
              "      <td>1992</td>\n",
              "      <td>Un episodio de Alta comedia, el histórico cicl...</td>\n",
              "      <td>64</td>\n",
              "      <td>https://www.teatrix.com/ver/alta-comedia-seis-...</td>\n",
              "    </tr>\n",
              "  </tbody>\n",
              "</table>\n",
              "</div>"
            ],
            "text/plain": [
              "                                                  Obra  ...                                            Trailer\n",
              "5                                               Brujas  ...                 https://www.teatrix.com/ver/brujas\n",
              "170                       Alta Comedia: Hoy Digo Basta  ...  https://www.teatrix.com/ver/alta-comedia-hoy-d...\n",
              "171                     Alta Comedia: Persona No Grata  ...  https://www.teatrix.com/ver/alta-comedia-perso...\n",
              "172                           Alta Comedia: Sin Salida  ...  https://www.teatrix.com/ver/alta-comedia-sin-s...\n",
              "173               Alta Comedia: La Sangre De Los Ortiz  ...  https://www.teatrix.com/ver/alta-comedia-la-sa...\n",
              "174  Alta Comedia: Seis Personajes En Busca De Un A...  ...  https://www.teatrix.com/ver/alta-comedia-seis-...\n",
              "\n",
              "[6 rows x 6 columns]"
            ]
          },
          "metadata": {
            "tags": []
          },
          "execution_count": 33
        }
      ]
    },
    {
      "cell_type": "markdown",
      "metadata": {
        "id": "E6oKUE9ogFtR"
      },
      "source": [
        "¿De qué años son la mayoría de las obras?"
      ]
    },
    {
      "cell_type": "code",
      "metadata": {
        "colab": {
          "base_uri": "https://localhost:8080/",
          "height": 325
        },
        "id": "9QNwFmUyf1mh",
        "outputId": "582bbe50-7e17-45f6-e58a-d67bdf4bb574"
      },
      "source": [
        "catalogo['Año'].hist(figsize=(15,5))"
      ],
      "execution_count": 34,
      "outputs": [
        {
          "output_type": "execute_result",
          "data": {
            "text/plain": [
              "<matplotlib.axes._subplots.AxesSubplot at 0x7f7881d12518>"
            ]
          },
          "metadata": {
            "tags": []
          },
          "execution_count": 34
        },
        {
          "output_type": "display_data",
          "data": {
            "image/png": "[encoded data removed]",
            "text/plain": [
              "<Figure size 1080x360 with 1 Axes>"
            ]
          },
          "metadata": {
            "tags": [],
            "needs_background": "light"
          }
        }
      ]
    },
    {
      "cell_type": "markdown",
      "metadata": {
        "id": "NZM83zk3qC4o"
      },
      "source": [
        "Ahora crearemos otro DataFrame para analizar la duración de las obras, eliminando los valores nulos, convirtiendo los minutos en datos operables y descartando aquellos que resulten anómalos:"
      ]
    },
    {
      "cell_type": "code",
      "metadata": {
        "id": "6nBz9M0Ap6vf"
      },
      "source": [
        "duraciones = catalogo.dropna()"
      ],
      "execution_count": 35,
      "outputs": []
    },
    {
      "cell_type": "code",
      "metadata": {
        "colab": {
          "base_uri": "https://localhost:8080/"
        },
        "id": "dBPlghIwtq2r",
        "outputId": "1f3f95a3-bdfb-4058-ba4d-0820ecbc88a8"
      },
      "source": [
        "duraciones['Duración_minutos'] = duraciones['Duración_minutos'].astype(int)"
      ],
      "execution_count": 36,
      "outputs": [
        {
          "output_type": "stream",
          "text": [
            "/usr/local/lib/python3.6/dist-packages/ipykernel_launcher.py:1: SettingWithCopyWarning: \n",
            "A value is trying to be set on a copy of a slice from a DataFrame.\n",
            "Try using .loc[row_indexer,col_indexer] = value instead\n",
            "\n",
            "See the caveats in the documentation: https://pandas.pydata.org/pandas-docs/stable/user_guide/indexing.html#returning-a-view-versus-a-copy\n",
            "  \"\"\"Entry point for launching an IPython kernel.\n"
          ],
          "name": "stderr"
        }
      ]
    },
    {
      "cell_type": "code",
      "metadata": {
        "id": "ba0KnzxjuiVn"
      },
      "source": [
        "#Descartamos las obras que duren menos de 20 minutos, cifra arbitraria que tomamos\n",
        "#como indicadora de datos anómalos:\n",
        "duraciones = duraciones[duraciones['Duración_minutos'] > 20] "
      ],
      "execution_count": 37,
      "outputs": []
    },
    {
      "cell_type": "markdown",
      "metadata": {
        "id": "5voW5AhqwRiZ"
      },
      "source": [
        "¿Cuál es la obra más corta?"
      ]
    },
    {
      "cell_type": "code",
      "metadata": {
        "colab": {
          "base_uri": "https://localhost:8080/",
          "height": 97
        },
        "id": "bBhEF4QnwLrp",
        "outputId": "033ca29f-a663-45c7-e0d7-bd6ad144c1be"
      },
      "source": [
        "duraciones[duraciones['Duración_minutos'] == duraciones['Duración_minutos'].min()]"
      ],
      "execution_count": 38,
      "outputs": [
        {
          "output_type": "execute_result",
          "data": {
            "text/html": [
              "<div>\n",
              "<style scoped>\n",
              "    .dataframe tbody tr th:only-of-type {\n",
              "        vertical-align: middle;\n",
              "    }\n",
              "\n",
              "    .dataframe tbody tr th {\n",
              "        vertical-align: top;\n",
              "    }\n",
              "\n",
              "    .dataframe thead th {\n",
              "        text-align: right;\n",
              "    }\n",
              "</style>\n",
              "<table border=\"1\" class=\"dataframe\">\n",
              "  <thead>\n",
              "    <tr style=\"text-align: right;\">\n",
              "      <th></th>\n",
              "      <th>Obra</th>\n",
              "      <th>Teatro</th>\n",
              "      <th>Año</th>\n",
              "      <th>Sinopsis</th>\n",
              "      <th>Duración_minutos</th>\n",
              "      <th>Trailer</th>\n",
              "    </tr>\n",
              "  </thead>\n",
              "  <tbody>\n",
              "    <tr>\n",
              "      <th>140</th>\n",
              "      <td>Isabel De Guevara</td>\n",
              "      <td>Centro cultural 25 de mayo</td>\n",
              "      <td>2018</td>\n",
              "      <td>Una  obra  de  la  prestigiosa    Alicia  Muño...</td>\n",
              "      <td>41</td>\n",
              "      <td>https://www.teatrix.com/ver/isabel-de-guevara</td>\n",
              "    </tr>\n",
              "  </tbody>\n",
              "</table>\n",
              "</div>"
            ],
            "text/plain": [
              "                  Obra  ...                                        Trailer\n",
              "140  Isabel De Guevara  ...  https://www.teatrix.com/ver/isabel-de-guevara\n",
              "\n",
              "[1 rows x 6 columns]"
            ]
          },
          "metadata": {
            "tags": []
          },
          "execution_count": 38
        }
      ]
    },
    {
      "cell_type": "markdown",
      "metadata": {
        "id": "tq4EW3Wywliv"
      },
      "source": [
        "¿Y la más larga?"
      ]
    },
    {
      "cell_type": "code",
      "metadata": {
        "colab": {
          "base_uri": "https://localhost:8080/",
          "height": 114
        },
        "id": "gFXabItpwrt5",
        "outputId": "c7914df9-d48c-41b0-8b1f-6a1c85d771b4"
      },
      "source": [
        "duraciones[duraciones['Duración_minutos'] == duraciones['Duración_minutos'].max()]"
      ],
      "execution_count": 39,
      "outputs": [
        {
          "output_type": "execute_result",
          "data": {
            "text/html": [
              "<div>\n",
              "<style scoped>\n",
              "    .dataframe tbody tr th:only-of-type {\n",
              "        vertical-align: middle;\n",
              "    }\n",
              "\n",
              "    .dataframe tbody tr th {\n",
              "        vertical-align: top;\n",
              "    }\n",
              "\n",
              "    .dataframe thead th {\n",
              "        text-align: right;\n",
              "    }\n",
              "</style>\n",
              "<table border=\"1\" class=\"dataframe\">\n",
              "  <thead>\n",
              "    <tr style=\"text-align: right;\">\n",
              "      <th></th>\n",
              "      <th>Obra</th>\n",
              "      <th>Teatro</th>\n",
              "      <th>Año</th>\n",
              "      <th>Sinopsis</th>\n",
              "      <th>Duración_minutos</th>\n",
              "      <th>Trailer</th>\n",
              "    </tr>\n",
              "  </thead>\n",
              "  <tbody>\n",
              "    <tr>\n",
              "      <th>142</th>\n",
              "      <td>Esquizopeña, Intimidad Rioplatense</td>\n",
              "      <td>Paseo La Plaza</td>\n",
              "      <td>2015</td>\n",
              "      <td>El inolvidable Fernando Peña, trasgresor y cre...</td>\n",
              "      <td>172</td>\n",
              "      <td>https://www.teatrix.com/ver/esquizopena-intimi...</td>\n",
              "    </tr>\n",
              "  </tbody>\n",
              "</table>\n",
              "</div>"
            ],
            "text/plain": [
              "                                   Obra  ...                                            Trailer\n",
              "142  Esquizopeña, Intimidad Rioplatense  ...  https://www.teatrix.com/ver/esquizopena-intimi...\n",
              "\n",
              "[1 rows x 6 columns]"
            ]
          },
          "metadata": {
            "tags": []
          },
          "execution_count": 39
        }
      ]
    },
    {
      "cell_type": "markdown",
      "metadata": {
        "id": "lmyKIMySw0to"
      },
      "source": [
        "¿Cuál es el promedio de duración de las obras?"
      ]
    },
    {
      "cell_type": "code",
      "metadata": {
        "colab": {
          "base_uri": "https://localhost:8080/"
        },
        "id": "bzsRsiCjw4M3",
        "outputId": "1f5a9160-5a46-4d6c-8031-bdccb09462f0"
      },
      "source": [
        "prom_dur = duraciones['Duración_minutos'].mean()\n",
        "print(f'El promedio de duración de las obras es de {round(prom_dur)} minutos.')"
      ],
      "execution_count": 40,
      "outputs": [
        {
          "output_type": "stream",
          "text": [
            "El promedio de duración de las obras es de 88 minutos.\n"
          ],
          "name": "stdout"
        }
      ]
    },
    {
      "cell_type": "markdown",
      "metadata": {
        "id": "Oy9imrczxTtI"
      },
      "source": [
        "¿Cómo se distribuyen las obras según su duración?"
      ]
    },
    {
      "cell_type": "code",
      "metadata": {
        "colab": {
          "base_uri": "https://localhost:8080/",
          "height": 325
        },
        "id": "jjuc7_0JxYRQ",
        "outputId": "a993de3e-979f-4051-912b-0f04f4fc83ad"
      },
      "source": [
        "duraciones['Duración_minutos'].hist(figsize=(15,5))"
      ],
      "execution_count": 41,
      "outputs": [
        {
          "output_type": "execute_result",
          "data": {
            "text/plain": [
              "<matplotlib.axes._subplots.AxesSubplot at 0x7f7881cf09b0>"
            ]
          },
          "metadata": {
            "tags": []
          },
          "execution_count": 41
        },
        {
          "output_type": "display_data",
          "data": {
            "image/png": "[encoded data removed]",
            "text/plain": [
              "<Figure size 1080x360 with 1 Axes>"
            ]
          },
          "metadata": {
            "tags": [],
            "needs_background": "light"
          }
        }
      ]
    },
    {
      "cell_type": "markdown",
      "metadata": {
        "id": "tDEba_gXxsXa"
      },
      "source": [
        "Para finalizar, creamos un archivo de Excel con nuestro catálogo:"
      ]
    },
    {
      "cell_type": "code",
      "metadata": {
        "id": "wsI0lH5dxyin"
      },
      "source": [
        "catalogo.to_excel('catalogo_teatrix.xlsx')"
      ],
      "execution_count": 42,
      "outputs": []
    }
  ]
}